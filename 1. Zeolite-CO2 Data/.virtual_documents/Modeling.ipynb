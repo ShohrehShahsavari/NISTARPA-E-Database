import numpy as np
import pandas as pd
import matplotlib.pyplot as plt
import seaborn as sns
import warnings
warnings.filterwarnings('ignore')


df = pd.read_csv('E:/Python Projects/shohreh/Shohreh_GitHub_Repository/NISTARPA-E Database/Git Repo/1. Zeolite-CO2 Data/StdData.csv')
df.info()


df['adsorbent'].nunique()


from sklearn.model_selection import train_test_split

X = df.drop(['total_adsorption'], axis=1)
y = df['total_adsorption']
X_train, X_test, y_train, y_test= train_test_split(X, y, train_size= .8, random_state=42)


from sklearn.linear_model import LinearRegression
from sklearn.svm import SVR
from sklearn.tree import DecisionTreeRegressor
from sklearn.ensemble import RandomForestRegressor, GradientBoostingRegressor, AdaBoostRegressor
from sklearn.metrics import r2_score, mean_squared_error, mean_absolute_error
from sklearn.model_selection import cross_val_score, GridSearchCV, RandomizedSearchCV


estimators = {
    'LinearRegression' : LinearRegression(),
    'SVR' : SVR(),
    'DecisionTreeRegressor' : DecisionTreeRegressor(),
    'RandomForestRegressor' : RandomForestRegressor(),
    'GradientBoostingRegressor' : GradientBoostingRegressor(),
    'AdaBoostRegressor' : AdaBoostRegressor()
}
for estimator_name, estimator_object in estimators.items():
    estimator_object.fit(X_train, y_train)
    y_pred_test = estimator_object.predict(X_test)
    y_pred_train = estimator_object.predict(X_train)
    scores= cross_val_score(estimator=estimator_object, X=X, y=y, cv=2, scoring="r2")
    train_r2 = r2_score(y_train, y_pred_train)
    test_r2 = r2_score(y_test, y_pred_test)
    train_mse = mean_squared_error(y_train, y_pred_train)
    test_mse = mean_squared_error(y_test, y_pred_test)
    train_mae = mean_absolute_error(y_train, y_pred_train)
    test_mae = mean_absolute_error(y_test, y_pred_test)
    print(f"{estimator_name}\n\tr2_score:\n\t\ttrain_r2: {train_r2}\ttest_r2: {test_r2}\n\tMSE:\n\t\ttrain_mse: {train_mse}\ttest_mse: {test_mse}\n\t MAE:\n\t\ttrain_mae: {train_mae}\ttest_mae: {train_mae}\n\n")


params={'fit_intercept' : [True, False], 'positive' : [True, False]}
lr_model= LinearRegression()
randomSearch= GridSearchCV(lr_model, params, cv=10, scoring= 'r2')
randomSearch.fit(X, y)
print(randomSearch.best_params_)
print(randomSearch.best_score_)
print(randomSearch.best_estimator_)
# roc_auc_ovr


params={'C' : [0.1, 1, 10, 100],
        'kernel' : ['linear', 'rbf', 'poly'],
        'gamma': ['scale', 'auto', 0.1, 1],
        'epsilon': [0.01, 0.1, 0.2]
       }
svr_model= SVR()
svr_randomSearch= RandomizedSearchCV(svr_model, params, cv=10, scoring= 'r2')
svr_randomSearch.fit(X, y)
print(svr_randomSearch.best_params_)
print(svr_randomSearch.best_score_)
print(svr_randomSearch.best_estimator_)


params={'max_depth': [None, 5, 10, 15, 20],
       'min_samples_split': [2, 5, 10],
       'min_samples_leaf': [1, 2, 4],
       'max_features': ['auto', 'sqrt','log2', None]
       }
dt_model= DecisionTreeRegressor(random_state=42)
dt_randomSearch= RandomizedSearchCV(dt_model, params, cv=10, scoring= 'r2')
dt_randomSearch.fit(X, y)
print(dt_randomSearch.best_params_)
print(dt_randomSearch.best_score_)
print(dt_randomSearch.best_estimator_)


dt_feature_importance = dt_randomSearch.best_estimator_.feature_importances_
feature_names = X.columns
dt_feature_importance_df= pd.DataFrame({'feature' : feature_names, 'importance': dt_feature_importance}).sort_values('importance', ascending=False)
df_dt_plot_NoPressure = dt_feature_importance_df[1:]
plt.figure(figsize=(10, 6))
plt.barh(df_dt_plot_NoPressure['feature'], df_dt_plot_NoPressure['importance'])
plt.xlabel('Feature Importance')
plt.title('Decision Tree Feature Importances')
plt.tight_layout()
plt.show()


params= {'n_estimators': [50, 100, 200],
         'max_depth': [None, 10, 20, 30],
         'min_samples_split': [2, 5, 10],
         'min_samples_leaf': [1, 2, 4],
         'max_features': ['auto', 'sqrt', 'log2']
        }
rf_model= RandomForestRegressor(random_state=42)
rf_randomSearch= RandomizedSearchCV(rf_model, params, cv=10, scoring= 'r2')
rf_randomSearch.fit(X, y)
print(rf_randomSearch.best_params_)
print(rf_randomSearch.best_score_)
print(rf_randomSearch.best_estimator_)


rf_feature_importance = rf_randomSearch.best_estimator_.feature_importances_
feature_names = X.columns
rf_feature_importance_df= pd.DataFrame({'feature' : feature_names, 'importance': rf_feature_importance}).sort_values('importance', ascending=False)
df_rf_plot_NoPressure = rf_feature_importance_df[1:]
plt.figure(figsize=(10, 6))
plt.barh(df_rf_plot_NoPressure['feature'], df_rf_plot_NoPressure['importance'])
plt.xlabel('Feature Importance')
plt.title('Random Forest Feature Importances')
plt.tight_layout()
plt.show()


params= {'n_estimators': [50, 100, 200],
         'learning_rate': [0.01, 0.1, 0.2],
         'max_depth': [3, 5, 7],
         'min_samples_split': [2, 5, 10],
         'min_samples_leaf': [1, 2, 4],
         'subsample': [0.8, 0.9, 1.0]
        }
gb_model= GradientBoostingRegressor(random_state=42)
gb_randomSearch= RandomizedSearchCV(gb_model, params, cv=10, scoring= 'r2')
gb_randomSearch.fit(X, y)
print(gb_randomSearch.best_params_)
print(gb_randomSearch.best_score_)
print(gb_randomSearch.best_estimator_)


gb_feature_importance = gb_randomSearch.best_estimator_.feature_importances_
feature_names = X.columns
gb_feature_importance_df= pd.DataFrame({'feature' : feature_names, 'importance': gb_feature_importance}).sort_values('importance', ascending=False)
df_gb_plot_NoPressure= gb_feature_importance_df[1:]
plt.figure(figsize=(10, 6))
plt.barh(df_gb_plot_NoPressure['feature'], df_gb_plot_NoPressure['importance'])
plt.xlabel('Feature Importance')
plt.title('Gradient Boost Feature Importances')
plt.tight_layout()
plt.show()


params= {'n_estimators': [50, 100, 200],
         'learning_rate': [0.01, 0.1, 1.0],
         'loss': ['linear', 'square', 'exponential']
        }
ab_model= AdaBoostRegressor(random_state=42)
ab_randomSearch= RandomizedSearchCV(ab_model, params, cv=10, scoring= 'r2')
ab_randomSearch.fit(X, y)
print(ab_randomSearch.best_params_)
print(ab_randomSearch.best_score_)
print(ab_randomSearch.best_estimator_)


ab_feature_importance = ab_randomSearch.best_estimator_.feature_importances_
feature_names = X.columns
ab_feature_importance_df= pd.DataFrame({'feature' : feature_names, 'importance': ab_feature_importance}).sort_values('importance', ascending=False)
df_ab_plot_NoPressure = ab_feature_importance_df[1:]
plt.figure(figsize=(10, 6))
plt.barh(df_ab_plot_NoPressure['feature'], df_ab_plot_NoPressure['importance'])
plt.xlabel('Feature Importance')
plt.title('Ada Boost Feature Importances')
plt.tight_layout()
plt.show()



