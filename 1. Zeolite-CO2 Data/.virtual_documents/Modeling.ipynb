import numpy as np
import pandas as pd
import matplotlib.pyplot as plt
import seaborn as sns
import warnings
warnings.filterwarnings('ignore')


df = pd.read_csv('E:/Python Projects/shohreh/Shohreh_GitHub_Repository/NISTARPA-E Database/Git Repo/1. Zeolite-CO2 Data/StdData.csv')
df.info()


from sklearn.model_selection import train_test_split

X = df.drop(['total_adsorption'], axis=1)
y = df['total_adsorption']
X_train, X_test, y_train, y_test= train_test_split(X, y, train_size= .8, random_state=42)


from sklearn.linear_model import LinearRegression
from sklearn.svm import SVR
from sklearn.tree import DecisionTreeRegressor
from sklearn.ensemble import RandomForestRegressor, GradientBoostingRegressor, AdaBoostRegressor
from sklearn.metrics import r2_score, mean_squared_error
from sklearn.model_selection import cross_val_score, GridSearchCV, RandomizedSearchCV


estimators = {
    'LinearRegression' : LinearRegression(),
    'SVR' : SVR(),
    'DecisionTreeRegressor' : DecisionTreeRegressor(),
    'RandomForestRegressor' : RandomForestRegressor(),
    'GradientBoostingRegressor' : GradientBoostingRegressor(),
    'AdaBoostRegressor' : AdaBoostRegressor()
}
for estimator_name, estimator_object in estimators.items():
    estimator_object.fit(X_train, y_train)
    y_pred = estimator_object.predict(X_test)
    scores= cross_val_score(estimator=estimator_object, X=X, y=y, cv=2, scoring="r2")
    print(f"{estimator_name}\tr2_score: {r2_score(y_test, y_pred)}\tmse: {mean_squared_error(y_test, y_pred)}\tStandard deviation = {scores.std():.4f}")


params={'fit_intercept' : [True, False], 'positive' : [True, False]}
lr_model= LinearRegression()
randomSearch= GridSearchCV(lr_model, params, cv=10, scoring= 'r2')
randomSearch.fit(X, y)
print(randomSearch.best_params_)
print(randomSearch.best_score_)
print(randomSearch.best_estimator_)


params={'C' : [0.1, 1, 10, 100],
        'kernel' : ['linear', 'rbf', 'poly'],
        'gamma': ['scale', 'auto', 0.1, 1],
        'epsilon': [0.01, 0.1, 0.2]
       }
svr_model= SVR()
randomSearch= RandomizedSearchCV(svr_model, params, cv=10, scoring= 'r2')
randomSearch.fit(X, y)
print(randomSearch.best_params_)
print(randomSearch.best_score_)
print(randomSearch.best_estimator_)


params={'max_depth': [None, 5, 10, 15, 20],
       'min_samples_split': [2, 5, 10],
       'min_samples_leaf': [1, 2, 4],
       'max_features': ['auto', 'sqrt','log2', None]
       }
dt_model= DecisionTreeRegressor(random_state=42)
randomSearch= RandomizedSearchCV(dt_model, params, cv=10, scoring= 'r2')
randomSearch.fit(X, y)
print(randomSearch.best_params_)
print(randomSearch.best_score_)
print(randomSearch.best_estimator_)
print(randomSearch.best_estimator_.feature_importances_)


params= {'n_estimators': [50, 100, 200],
         'max_depth': [None, 10, 20, 30],
         'min_samples_split': [2, 5, 10],
         'min_samples_leaf': [1, 2, 4],
         'max_features': ['auto', 'sqrt', 'log2']
        }
rf_model= RandomForestRegressor(random_state=42)
randomSearch= RandomizedSearchCV(rf_model, params, cv=10, scoring= 'r2')
randomSearch.fit(X, y)
print(randomSearch.best_params_)
print(randomSearch.best_score_)
print(randomSearch.best_estimator_)
print(randomSearch.best_estimator_.feature_importances_)


params= {'n_estimators': [50, 100, 200],
         'learning_rate': [0.01, 0.1, 0.2],
         'max_depth': [3, 5, 7],
         'min_samples_split': [2, 5, 10],
         'min_samples_leaf': [1, 2, 4],
         'subsample': [0.8, 0.9, 1.0]
        }
gb_model= GradientBoostingRegressor(random_state=42)
randomSearch= RandomizedSearchCV(gb_model, params, cv=10, scoring= 'r2')
randomSearch.fit(X, y)
print(randomSearch.best_params_)
print(randomSearch.best_score_)
print(randomSearch.best_estimator_)
print(randomSearch.best_estimator_.feature_importances_)


params= {'n_estimators': [50, 100, 200],
         'learning_rate': [0.01, 0.1, 1.0],
         'loss': ['linear', 'square', 'exponential']
        }
ab_model= AdaBoostRegressor(random_state=42)
randomSearch= RandomizedSearchCV(ab_model, params, cv=10, scoring= 'r2')
randomSearch.fit(X, y)
print(randomSearch.best_params_)
print(randomSearch.best_score_)
print(randomSearch.best_estimator_)
print(randomSearch.best_estimator_.feature_importances_)


params= {'n_estimators': [50, 100, 200],
         'learning_rate': [0.01, 0.1, 1.0],
         'loss': ['linear', 'square', 'exponential']
        }
gb_model= AdaBoostRegressor(random_state=42)
randomSearch= RandomizedSearchCV(ab_model, params, cv=10, scoring= 'r2')
randomSearch.fit(X, y)
print(randomSearch.best_params_)
print(randomSearch.best_score_)
print(randomSearch.best_estimator_)
print(randomSearch.best_estimator_.feature_importances_)



