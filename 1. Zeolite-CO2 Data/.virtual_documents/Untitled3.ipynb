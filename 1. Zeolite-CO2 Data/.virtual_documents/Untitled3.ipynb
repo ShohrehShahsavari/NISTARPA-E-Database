import numpy as np
import pandas as pd
import matplotlib.pyplot as plt
import seaborn as sns


df = pd.read_excel('E:/Python Projects/shohreh/Shohreh_GitHub_Repository/NISTARPA-E Database/Git Repo/1. Zeolite-CO2 Data/Data.xlsx')
df.info()


#### second try
masks= {
    'cm3(STP)/g' : df['adsorptionUnits']== 'cm3(STP)/g',
    'mmol/kg' : df['adsorptionUnits']== 'mmol/kg',
    'mol/g' : df['adsorptionUnits']== 'mol/g'
}

df.loc[masks['cm3(STP)/g'], 'total_adsorption'] = df.loc[masks['cm3(STP)/g'], 'total_adsorption']
df.loc[masks['mmol/kg'], 'total_adsorption'] = (df.loc[masks['mmol/kg'], 'total_adsorption'] / 1000).round(9)
df.loc[masks['mol/g'], 'total_adsorption'] = (df.loc[masks['mol/g'], 'total_adsorption'] * 1000).round(3)
df.loc[masks['cm3(STP)/g'] | masks['mmol/kg'] | masks['mol/g'], 'adsorptionUnits'] = 'mmol/g'


df= df[df['adsorptionUnits'] == 'mmol/g']


df['adsorptionUnits'].value_counts()


df.columns





df.drop(columns= ['adsorbates', 'pressureUnits', 'adsorptionUnits', 'DOI', 'pore diameter (A)', 'micro pore volume (ml/g)', 'BET surface area (m2/g)', 'Cation','Company of adsorbent', 'shape'], inplace= True, axis=1)


df.info()


from sklearn.preprocessing import LabelEncoder, StandardScaler, MinMaxScaler

le =LabelEncoder()

df['adsorbent'] = le.fit_transform(df['adsorbent'])
adsorbent_labels = le.classes_

# df['Cation'] = le.fit_transform(df['Cation'])
# cation_labels = le.classes_


ncols=2
nrows= 3
fig, axes= plt.subplots(nrows, ncols, figsize=(20, 10))
axes = axes.flatten()
for i, col in enumerate(df.columns):
    sns.boxplot(data=df, x= col, ax=axes[i])
    axes[i].set_title(f'Boxplot of {col}')
plt.tight_layout()
plt.show()


# plt.figure(figsize= (6,4))
# sns.heatmap(df_std.corr(), fmt='.2f', annot= True)
# plt.title('Correlation Heatmap')
# plt.show()

plt.figure(figsize= (6,4))
sns.heatmap(df.corr(), fmt='.2f', annot= True)
plt.title('Correlation Heatmap')
plt.show()



df_std.head()


from sklearn.model_selection import train_test_split

X = df_std.drop(['total_adsorption'], axis=1)
y = df_std['total_adsorption']
X_train, X_test, y_train, y_test= train_test_split(X, y, train_size= .8, random_state=42)


from sklearn.linear_model import LinearRegression
from sklearn.svm import SVR
from sklearn.tree import DecisionTreeRegressor
from sklearn.ensemble import RandomForestRegressor, GradientBoostingRegressor, AdaBoostRegressor
from sklearn.metrics import r2_score, mean_squared_error


estimators = {
    'LinearRegression' : LinearRegression(),
    'SVR' : SVR(),
    'DecisionTreeRegressor' : DecisionTreeRegressor(),
    'RandomForestRegressor' : RandomForestRegressor(),
    'GradientBoostingRegressor' : GradientBoostingRegressor(),
    'AdaBoostRegressor' : AdaBoostRegressor()
}
for estimator_name, estimator_object in estimators.items():
    estimator_object.fit(X_train, y_train)
    y_pred = estimator_object.predict(X_test)
    print(f"{estimator_name}\tr2_score: {r2_score(y_test, y_pred)}\tmse: {mean_squared_error(y_test, y_pred)}")


svr_model = SVR()
svr_model.fit(X_train, y_train)
y_pred = svr_model.predict(X_test)
print(f"SVR\tr2_score: {r2_score(y_test, y_pred)}\tmse: {mean_squared_error(y_test, y_pred)}")





# Load new data
df_test = pd.read_excel('E:/Python Projects/shohreh/Shohreh_GitHub_Repository/NISTARPA-E Database/Adsorption project/Data - Copy.xlsx')
# clean and fit new data with model entry
df_test.dropna(subset= ['pore diameter (A)', 'micro pore volume (ml/g)', 'BET surface area (m2/g)', 'Cation', 'Si/Al ratio', 'Company of adsorbent', 'shape'], how='all', inplace= True)
df_test.drop(columns= ['adsorbates', 'pressureUnits', 'adsorptionUnits', 'DOI', 'Company of adsorbent', 'shape'], inplace= True, axis=1)
# adsorbent and cation label
for i in range(len(adsorbent_labels)):
    for j in range(len(df_test['adsorbent'].values)):
        if adsorbent_labels[i] == df_test['adsorbent'].values[j]:
            df_test['adsorbent'].values[j] = i
for i in range(len(cation_labels)):
    for j in range(len(df_test['Cation'].values)):
        if cation_labels[i] == df_test['Cation'].values[j]:
            df_test['Cation'].values[j] = i

df_test_std = pd.DataFrame(scaler.transform(df_test), columns= df_test.columns)

df_test_std.head()


X_new = df_test_std.drop(['total_adsorption'], axis=1)
y_new = df_test_std['total_adsorption']
y_new_pred= svr_model.predict(X_new)
print(f"SVR\tr2_score: {r2_score(y_new, y_new_pred)}\tmse: {mean_squared_error(y_new, y_new_pred)}")



