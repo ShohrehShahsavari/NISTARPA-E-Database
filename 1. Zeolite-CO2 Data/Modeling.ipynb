{
 "cells": [
  {
   "cell_type": "code",
   "execution_count": 11,
   "id": "7927fe6d-210b-47e3-917c-24e7224bad75",
   "metadata": {},
   "outputs": [],
   "source": [
    "import numpy as np\n",
    "import pandas as pd\n",
    "import matplotlib.pyplot as plt\n",
    "import seaborn as sns\n",
    "import warnings\n",
    "warnings.filterwarnings('ignore')"
   ]
  },
  {
   "cell_type": "code",
   "execution_count": 2,
   "id": "64c095db-2b8f-4af5-bd3a-67b73d1f2981",
   "metadata": {
    "scrolled": true
   },
   "outputs": [
    {
     "name": "stdout",
     "output_type": "stream",
     "text": [
      "<class 'pandas.core.frame.DataFrame'>\n",
      "RangeIndex: 8190 entries, 0 to 8189\n",
      "Data columns (total 9 columns):\n",
      " #   Column                    Non-Null Count  Dtype  \n",
      "---  ------                    --------------  -----  \n",
      " 0   adsorbent                 8190 non-null   float64\n",
      " 1   temperature(k)            8190 non-null   float64\n",
      " 2   pressure                  8190 non-null   float64\n",
      " 3   total_adsorption          8190 non-null   float64\n",
      " 4   pore diameter (A)         8190 non-null   float64\n",
      " 5   micro pore volume (ml/g)  8190 non-null   float64\n",
      " 6   BET surface area (m2/g)   8190 non-null   float64\n",
      " 7   Cation                    8190 non-null   float64\n",
      " 8   Si/Al ratio               8190 non-null   float64\n",
      "dtypes: float64(9)\n",
      "memory usage: 576.0 KB\n"
     ]
    }
   ],
   "source": [
    "df = pd.read_csv('E:/Python Projects/shohreh/Shohreh_GitHub_Repository/NISTARPA-E Database/Git Repo/1. Zeolite-CO2 Data/StdData.csv')\n",
    "df.info()"
   ]
  },
  {
   "cell_type": "code",
   "execution_count": 17,
   "id": "a280e195-f2e7-44f7-8c37-0da357798498",
   "metadata": {},
   "outputs": [],
   "source": [
    "from sklearn.model_selection import train_test_split\n",
    "\n",
    "X = df.drop(['total_adsorption'], axis=1)\n",
    "y = df['total_adsorption']\n",
    "X_train, X_test, y_train, y_test= train_test_split(X, y, train_size= .8, random_state=42)"
   ]
  },
  {
   "cell_type": "code",
   "execution_count": 21,
   "id": "0444952e-20e1-42ec-bf8b-2c49b1b1f448",
   "metadata": {},
   "outputs": [],
   "source": [
    "from sklearn.linear_model import LinearRegression\n",
    "from sklearn.svm import SVR\n",
    "from sklearn.tree import DecisionTreeRegressor\n",
    "from sklearn.ensemble import RandomForestRegressor, GradientBoostingRegressor, AdaBoostRegressor\n",
    "from sklearn.metrics import r2_score, mean_squared_error, mean_absolute_error\n",
    "from sklearn.model_selection import cross_val_score, GridSearchCV, RandomizedSearchCV"
   ]
  },
  {
   "cell_type": "code",
   "execution_count": 19,
   "id": "23982e1e-739d-4096-a204-322311703c90",
   "metadata": {},
   "outputs": [
    {
     "name": "stdout",
     "output_type": "stream",
     "text": [
      "LinearRegression\n",
      "\tr2_score:\n",
      "\t\ttrain_r2: 1.0\ttest_r2: 1.0\n",
      "\tMSE:\n",
      "\t\ttrain_mse: 2.929863486722532e-32\ttest_mse: 3.1095244331752185e-32\n",
      "\t MAE:\n",
      "\t\ttrain_mae: 1.2134966834247276e-16\ttest_mae: 1.2134966834247276e-16\n",
      "\n",
      "\n",
      "SVR\n",
      "\tr2_score:\n",
      "\t\ttrain_r2: 0.9468548284348831\ttest_r2: 0.9448733462872793\n",
      "\tMSE:\n",
      "\t\ttrain_mse: 0.0026465835170728044\ttest_mse: 0.0026415068339007146\n",
      "\t MAE:\n",
      "\t\ttrain_mae: 0.041912281796201226\ttest_mae: 0.041912281796201226\n",
      "\n",
      "\n",
      "DecisionTreeRegressor\n",
      "\tr2_score:\n",
      "\t\ttrain_r2: 0.9999999999999993\ttest_r2: 0.9999970876504167\n",
      "\tMSE:\n",
      "\t\ttrain_mse: 3.5915067492716805e-17\ttest_mse: 1.395512117772129e-07\n",
      "\t MAE:\n",
      "\t\ttrain_mae: 5.189488559631438e-10\ttest_mae: 5.189488559631438e-10\n",
      "\n",
      "\n",
      "RandomForestRegressor\n",
      "\tr2_score:\n",
      "\t\ttrain_r2: 0.999999793728226\ttest_r2: 0.999998973227069\n",
      "\tMSE:\n",
      "\t\ttrain_mse: 1.0272155700279962e-08\ttest_mse: 4.919993381482103e-08\n",
      "\t MAE:\n",
      "\t\ttrain_mae: 3.290329814084924e-05\ttest_mae: 3.290329814084924e-05\n",
      "\n",
      "\n",
      "GradientBoostingRegressor\n",
      "\tr2_score:\n",
      "\t\ttrain_r2: 0.999976319097536\ttest_r2: 0.9999686533634998\n",
      "\tMSE:\n",
      "\t\ttrain_mse: 1.1792884336372332e-06\ttest_mse: 1.5020384688435764e-06\n",
      "\t MAE:\n",
      "\t\ttrain_mae: 0.0005877037204149833\ttest_mae: 0.0005877037204149833\n",
      "\n",
      "\n",
      "AdaBoostRegressor\n",
      "\tr2_score:\n",
      "\t\ttrain_r2: 0.996420912559578\ttest_r2: 0.9963258562790991\n",
      "\tMSE:\n",
      "\t\ttrain_mse: 0.0001782354548310585\ttest_mse: 0.0001760541424855933\n",
      "\t MAE:\n",
      "\t\ttrain_mae: 0.011101515423943059\ttest_mae: 0.011101515423943059\n",
      "\n",
      "\n"
     ]
    }
   ],
   "source": [
    "estimators = {\n",
    "    'LinearRegression' : LinearRegression(),\n",
    "    'SVR' : SVR(),\n",
    "    'DecisionTreeRegressor' : DecisionTreeRegressor(),\n",
    "    'RandomForestRegressor' : RandomForestRegressor(),\n",
    "    'GradientBoostingRegressor' : GradientBoostingRegressor(),\n",
    "    'AdaBoostRegressor' : AdaBoostRegressor()\n",
    "}\n",
    "for estimator_name, estimator_object in estimators.items():\n",
    "    estimator_object.fit(X_train, y_train)\n",
    "    y_pred_test = estimator_object.predict(X_test)\n",
    "    y_pred_train = estimator_object.predict(X_train)\n",
    "    scores= cross_val_score(estimator=estimator_object, X=X, y=y, cv=2, scoring=\"r2\")\n",
    "    train_r2 = r2_score(y_train, y_pred_train)\n",
    "    test_r2 = r2_score(y_test, y_pred_test)\n",
    "    train_mse = mean_squared_error(y_train, y_pred_train)\n",
    "    test_mse = mean_squared_error(y_test, y_pred_test)\n",
    "    train_mae = mean_absolute_error(y_train, y_pred_train)\n",
    "    test_mae = mean_absolute_error(y_test, y_pred_test)\n",
    "    print(f\"{estimator_name}\\n\\tr2_score:\\n\\t\\ttrain_r2: {train_r2}\\ttest_r2: {test_r2}\\n\\tMSE:\\n\\t\\ttrain_mse: {train_mse}\\ttest_mse: {test_mse}\\n\\t MAE:\\n\\t\\ttrain_mae: {train_mae}\\ttest_mae: {train_mae}\\n\\n\")"
   ]
  },
  {
   "cell_type": "code",
   "execution_count": 26,
   "id": "5ec5b171-7bac-44fc-98de-f7d5f0818733",
   "metadata": {},
   "outputs": [
    {
     "name": "stdout",
     "output_type": "stream",
     "text": [
      "{'fit_intercept': True, 'positive': True}\n",
      "1.0\n",
      "LinearRegression(positive=True)\n"
     ]
    }
   ],
   "source": [
    "params={'fit_intercept' : [True, False], 'positive' : [True, False]}\n",
    "lr_model= LinearRegression()\n",
    "randomSearch= GridSearchCV(lr_model, params, cv=10, scoring= 'r2')\n",
    "randomSearch.fit(X, y)\n",
    "print(randomSearch.best_params_)\n",
    "print(randomSearch.best_score_)\n",
    "print(randomSearch.best_estimator_)\n",
    "# roc_auc_ovr"
   ]
  },
  {
   "cell_type": "code",
   "execution_count": 8,
   "id": "7e94edaa-b5a4-495f-b812-ac2d512cabdf",
   "metadata": {},
   "outputs": [
    {
     "name": "stdout",
     "output_type": "stream",
     "text": [
      "{'kernel': 'rbf', 'gamma': 1, 'epsilon': 0.01, 'C': 0.1}\n",
      "0.9884209591469922\n",
      "SVR(C=0.1, epsilon=0.01, gamma=1)\n"
     ]
    }
   ],
   "source": [
    "params={'C' : [0.1, 1, 10, 100],\n",
    "        'kernel' : ['linear', 'rbf', 'poly'],\n",
    "        'gamma': ['scale', 'auto', 0.1, 1],\n",
    "        'epsilon': [0.01, 0.1, 0.2]\n",
    "       }\n",
    "svr_model= SVR()\n",
    "randomSearch= RandomizedSearchCV(svr_model, params, cv=10, scoring= 'r2')\n",
    "randomSearch.fit(X, y)\n",
    "print(randomSearch.best_params_)\n",
    "print(randomSearch.best_score_)\n",
    "print(randomSearch.best_estimator_)"
   ]
  },
  {
   "cell_type": "code",
   "execution_count": 9,
   "id": "e1ee665b-72c7-4dcb-b68c-3ff1c4ab8719",
   "metadata": {},
   "outputs": [
    {
     "name": "stderr",
     "output_type": "stream",
     "text": [
      "C:\\Users\\ebsor\\anaconda3\\lib\\site-packages\\sklearn\\model_selection\\_validation.py:425: FitFailedWarning: \n",
      "30 fits failed out of a total of 100.\n",
      "The score on these train-test partitions for these parameters will be set to nan.\n",
      "If these failures are not expected, you can try to debug them by setting error_score='raise'.\n",
      "\n",
      "Below are more details about the failures:\n",
      "--------------------------------------------------------------------------------\n",
      "30 fits failed with the following error:\n",
      "Traceback (most recent call last):\n",
      "  File \"C:\\Users\\ebsor\\anaconda3\\lib\\site-packages\\sklearn\\model_selection\\_validation.py\", line 732, in _fit_and_score\n",
      "    estimator.fit(X_train, y_train, **fit_params)\n",
      "  File \"C:\\Users\\ebsor\\anaconda3\\lib\\site-packages\\sklearn\\base.py\", line 1144, in wrapper\n",
      "    estimator._validate_params()\n",
      "  File \"C:\\Users\\ebsor\\anaconda3\\lib\\site-packages\\sklearn\\base.py\", line 637, in _validate_params\n",
      "    validate_parameter_constraints(\n",
      "  File \"C:\\Users\\ebsor\\anaconda3\\lib\\site-packages\\sklearn\\utils\\_param_validation.py\", line 95, in validate_parameter_constraints\n",
      "    raise InvalidParameterError(\n",
      "sklearn.utils._param_validation.InvalidParameterError: The 'max_features' parameter of DecisionTreeRegressor must be an int in the range [1, inf), a float in the range (0.0, 1.0], a str among {'log2', 'sqrt'} or None. Got 'auto' instead.\n",
      "\n",
      "  warnings.warn(some_fits_failed_message, FitFailedWarning)\n",
      "C:\\Users\\ebsor\\anaconda3\\lib\\site-packages\\sklearn\\model_selection\\_search.py:976: UserWarning: One or more of the test scores are non-finite: [ 0.71607915  0.953795           nan -1.49741666  0.84373462         nan\n",
      "  0.78384855         nan  0.99999008  0.20833666]\n",
      "  warnings.warn(\n"
     ]
    },
    {
     "name": "stdout",
     "output_type": "stream",
     "text": [
      "{'min_samples_split': 5, 'min_samples_leaf': 2, 'max_features': None, 'max_depth': None}\n",
      "0.9999900823445312\n",
      "DecisionTreeRegressor(min_samples_leaf=2, min_samples_split=5, random_state=42)\n",
      "[2.98171585e-08 4.79257992e-08 9.99999514e-01 1.98071450e-07\n",
      " 3.86763264e-08 3.42898625e-08 5.54533332e-08 8.19325648e-08]\n"
     ]
    }
   ],
   "source": [
    "params={'max_depth': [None, 5, 10, 15, 20],\n",
    "       'min_samples_split': [2, 5, 10],\n",
    "       'min_samples_leaf': [1, 2, 4],\n",
    "       'max_features': ['auto', 'sqrt','log2', None]\n",
    "       }\n",
    "dt_model= DecisionTreeRegressor(random_state=42)\n",
    "randomSearch= RandomizedSearchCV(dt_model, params, cv=10, scoring= 'r2')\n",
    "randomSearch.fit(X, y)\n",
    "print(randomSearch.best_params_)\n",
    "print(randomSearch.best_score_)\n",
    "print(randomSearch.best_estimator_)\n",
    "print(randomSearch.best_estimator_.feature_importances_)"
   ]
  },
  {
   "cell_type": "code",
   "execution_count": 27,
   "id": "7e087b89-d3dd-4b5d-bbbe-0e884e25a69e",
   "metadata": {},
   "outputs": [
    {
     "name": "stdout",
     "output_type": "stream",
     "text": [
      "{'n_estimators': 50, 'min_samples_split': 5, 'min_samples_leaf': 2, 'max_features': 'log2', 'max_depth': 20}\n",
      "0.9868255755636406\n",
      "RandomForestRegressor(max_depth=20, max_features='log2', min_samples_leaf=2,\n",
      "                      min_samples_split=5, n_estimators=50, random_state=42)\n",
      "[0.00899146 0.00939005 0.86774641 0.00247811 0.04129056 0.04776953\n",
      " 0.00175874 0.02057515]\n"
     ]
    }
   ],
   "source": [
    "params= {'n_estimators': [50, 100, 200],\n",
    "         'max_depth': [None, 10, 20, 30],\n",
    "         'min_samples_split': [2, 5, 10],\n",
    "         'min_samples_leaf': [1, 2, 4],\n",
    "         'max_features': ['auto', 'sqrt', 'log2']\n",
    "        }\n",
    "rf_model= RandomForestRegressor(random_state=42)\n",
    "randomSearch= RandomizedSearchCV(rf_model, params, cv=10, scoring= 'r2')\n",
    "randomSearch.fit(X, y)\n",
    "print(randomSearch.best_params_)\n",
    "print(randomSearch.best_score_)\n",
    "print(randomSearch.best_estimator_)\n",
    "print(randomSearch.best_estimator_.feature_importances_)"
   ]
  },
  {
   "cell_type": "code",
   "execution_count": 12,
   "id": "56d6ec78-cb92-407f-8f85-71df9c2f7641",
   "metadata": {},
   "outputs": [
    {
     "name": "stdout",
     "output_type": "stream",
     "text": [
      "{'subsample': 0.8, 'n_estimators': 200, 'min_samples_split': 5, 'min_samples_leaf': 2, 'max_depth': 7, 'learning_rate': 0.1}\n",
      "0.9999972678091348\n",
      "GradientBoostingRegressor(max_depth=7, min_samples_leaf=2, min_samples_split=5,\n",
      "                          n_estimators=200, random_state=42, subsample=0.8)\n",
      "[4.26279600e-09 5.82925501e-09 9.99999975e-01 5.93502875e-09\n",
      " 1.77627568e-09 3.62826583e-09 1.39074261e-09 2.23830656e-09]\n"
     ]
    }
   ],
   "source": [
    "params= {'n_estimators': [50, 100, 200],\n",
    "         'learning_rate': [0.01, 0.1, 0.2],\n",
    "         'max_depth': [3, 5, 7],\n",
    "         'min_samples_split': [2, 5, 10],\n",
    "         'min_samples_leaf': [1, 2, 4],\n",
    "         'subsample': [0.8, 0.9, 1.0]\n",
    "        }\n",
    "gb_model= GradientBoostingRegressor(random_state=42)\n",
    "randomSearch= RandomizedSearchCV(gb_model, params, cv=10, scoring= 'r2')\n",
    "randomSearch.fit(X, y)\n",
    "print(randomSearch.best_params_)\n",
    "print(randomSearch.best_score_)\n",
    "print(randomSearch.best_estimator_)\n",
    "print(randomSearch.best_estimator_.feature_importances_)"
   ]
  },
  {
   "cell_type": "code",
   "execution_count": null,
   "id": "7cece0f0-8e37-42bc-92e3-1bd7a82f8718",
   "metadata": {},
   "outputs": [],
   "source": [
    "params= {'n_estimators': [50, 100, 200],\n",
    "         'learning_rate': [0.01, 0.1, 1.0],\n",
    "         'loss': ['linear', 'square', 'exponential']\n",
    "        }\n",
    "ab_model= AdaBoostRegressor(random_state=42)\n",
    "randomSearch= RandomizedSearchCV(ab_model, params, cv=10, scoring= 'r2')\n",
    "randomSearch.fit(X, y)\n",
    "print(randomSearch.best_params_)\n",
    "print(randomSearch.best_score_)\n",
    "print(randomSearch.best_estimator_)\n",
    "print(randomSearch.best_estimator_.feature_importances_)"
   ]
  }
 ],
 "metadata": {
  "kernelspec": {
   "display_name": "Python 3 (ipykernel)",
   "language": "python",
   "name": "python3"
  },
  "language_info": {
   "codemirror_mode": {
    "name": "ipython",
    "version": 3
   },
   "file_extension": ".py",
   "mimetype": "text/x-python",
   "name": "python",
   "nbconvert_exporter": "python",
   "pygments_lexer": "ipython3",
   "version": "3.9.17"
  }
 },
 "nbformat": 4,
 "nbformat_minor": 5
}
