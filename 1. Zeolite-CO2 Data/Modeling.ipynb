{
 "cells": [
  {
   "cell_type": "code",
   "execution_count": null,
   "id": "7927fe6d-210b-47e3-917c-24e7224bad75",
   "metadata": {},
   "outputs": [],
   "source": [
    "import numpy as np\n",
    "import pandas as pd\n",
    "import matplotlib.pyplot as plt\n",
    "import seaborn as sns"
   ]
  },
  {
   "cell_type": "code",
   "execution_count": 2,
   "id": "64c095db-2b8f-4af5-bd3a-67b73d1f2981",
   "metadata": {
    "scrolled": true
   },
   "outputs": [
    {
     "name": "stdout",
     "output_type": "stream",
     "text": [
      "<class 'pandas.core.frame.DataFrame'>\n",
      "RangeIndex: 8190 entries, 0 to 8189\n",
      "Data columns (total 9 columns):\n",
      " #   Column                    Non-Null Count  Dtype  \n",
      "---  ------                    --------------  -----  \n",
      " 0   adsorbent                 8190 non-null   float64\n",
      " 1   temperature(k)            8190 non-null   float64\n",
      " 2   pressure                  8190 non-null   float64\n",
      " 3   total_adsorption          8190 non-null   float64\n",
      " 4   pore diameter (A)         8190 non-null   float64\n",
      " 5   micro pore volume (ml/g)  8190 non-null   float64\n",
      " 6   BET surface area (m2/g)   8190 non-null   float64\n",
      " 7   Cation                    8190 non-null   float64\n",
      " 8   Si/Al ratio               8190 non-null   float64\n",
      "dtypes: float64(9)\n",
      "memory usage: 576.0 KB\n"
     ]
    }
   ],
   "source": [
    "df = pd.read_csv('E:/Python Projects/shohreh/Shohreh_GitHub_Repository/NISTARPA-E Database/Git Repo/1. Zeolite-CO2 Data/StdData.csv')\n",
    "df.info()"
   ]
  },
  {
   "cell_type": "code",
   "execution_count": 3,
   "id": "a280e195-f2e7-44f7-8c37-0da357798498",
   "metadata": {},
   "outputs": [],
   "source": [
    "from sklearn.model_selection import train_test_split\n",
    "\n",
    "X = df.drop(['total_adsorption'], axis=1)\n",
    "y = df['total_adsorption']\n",
    "X_train, X_test, y_train, y_test= train_test_split(X, y, train_size= .8, random_state=42)"
   ]
  },
  {
   "cell_type": "code",
   "execution_count": 4,
   "id": "0444952e-20e1-42ec-bf8b-2c49b1b1f448",
   "metadata": {},
   "outputs": [],
   "source": [
    "from sklearn.linear_model import LinearRegression\n",
    "from sklearn.svm import SVR\n",
    "from sklearn.tree import DecisionTreeRegressor\n",
    "from sklearn.ensemble import RandomForestRegressor, GradientBoostingRegressor, AdaBoostRegressor\n",
    "from sklearn.metrics import r2_score, mean_squared_error\n",
    "from sklearn.model_selection import cross_val_score, GridSearchCV"
   ]
  },
  {
   "cell_type": "code",
   "execution_count": 5,
   "id": "23982e1e-739d-4096-a204-322311703c90",
   "metadata": {},
   "outputs": [
    {
     "name": "stdout",
     "output_type": "stream",
     "text": [
      "LinearRegression\tr2_score: 1.0\tmse: 3.1095244331752185e-32\tStandard deviation = 0.0000\n",
      "SVR\tr2_score: 0.9448733462872793\tmse: 0.0026415068339007146\tStandard deviation = 0.0311\n",
      "DecisionTreeRegressor\tr2_score: 0.9999979729973587\tmse: 9.712799469571906e-08\tStandard deviation = 0.0001\n"
     ]
    },
    {
     "name": "stderr",
     "output_type": "stream",
     "text": [
      "\n",
      "KeyboardInterrupt\n",
      "\n"
     ]
    }
   ],
   "source": [
    "estimators = {\n",
    "    'LinearRegression' : LinearRegression(),\n",
    "    'SVR' : SVR(),\n",
    "    'DecisionTreeRegressor' : DecisionTreeRegressor(),\n",
    "    'RandomForestRegressor' : RandomForestRegressor(),\n",
    "    'GradientBoostingRegressor' : GradientBoostingRegressor(),\n",
    "    'AdaBoostRegressor' : AdaBoostRegressor()\n",
    "}\n",
    "for estimator_name, estimator_object in estimators.items():\n",
    "    estimator_object.fit(X_train, y_train)\n",
    "    y_pred = estimator_object.predict(X_test)\n",
    "    scores= cross_val_score(estimator=estimator_object, X=X, y=y, cv=2, scoring=\"r2\")\n",
    "    print(f\"{estimator_name}\\tr2_score: {r2_score(y_test, y_pred)}\\tmse: {mean_squared_error(y_test, y_pred)}\\tStandard deviation = {scores.std():.4f}\")"
   ]
  },
  {
   "cell_type": "code",
   "execution_count": 6,
   "id": "5ec5b171-7bac-44fc-98de-f7d5f0818733",
   "metadata": {},
   "outputs": [
    {
     "name": "stdout",
     "output_type": "stream",
     "text": [
      "{'fit_intercept': True, 'positive': True}\n",
      "1.0\n",
      "LinearRegression(positive=True)\n"
     ]
    }
   ],
   "source": [
    "params={'fit_intercept' : [True, False], 'positive' : [True, False]}\n",
    "lr_model= LinearRegression()\n",
    "gridSearch= GridSearchCV(lr_model, params, cv=10, scoring= 'r2')\n",
    "gridSearch.fit(X, y)\n",
    "print(gridSearch.best_params_)\n",
    "print(gridSearch.best_score_)\n",
    "print(gridSearch.best_estimator_)\n"
   ]
  },
  {
   "cell_type": "code",
   "execution_count": null,
   "id": "7e94edaa-b5a4-495f-b812-ac2d512cabdf",
   "metadata": {},
   "outputs": [],
   "source": [
    "params={'C' : [0.1, 1, 10, 100],\n",
    "        'kernel' : ['linear', 'rbf', 'poly'],\n",
    "        'gamma': ['scale', 'auto', 0.1, 1],\n",
    "        'epsilon': [0.01, 0.1, 0.2]\n",
    "       }\n",
    "svr_model= SVR()\n",
    "gridSearch= GridSearchCV(svr_model, params, cv=10, scoring= 'r2')\n",
    "gridSearch.fit(X, y)\n",
    "print(gridSearch.best_params_)\n",
    "print(gridSearch.best_score_)\n",
    "print(gridSearch.best_estimator_)"
   ]
  },
  {
   "cell_type": "code",
   "execution_count": null,
   "id": "e1ee665b-72c7-4dcb-b68c-3ff1c4ab8719",
   "metadata": {},
   "outputs": [],
   "source": [
    "params={'max_depth': [None, 5, 10, 15, 20],\n",
    "       'min_samples_split': [2, 5, 10],\n",
    "       'min_samples_leaf': [1, 2, 4],\n",
    "       'max_features': ['auto', 'sqrt','log2', None]\n",
    "       }\n",
    "dt_model= DecisionTreeRegressor(random_state=42)\n",
    "gridSearch= GridSearchCV(dt_model, params, cv=10, scoring= 'r2')\n",
    "gridSearch.fit(X, y)\n",
    "print(gridSearch.best_params_)\n",
    "print(gridSearch.best_score_)\n",
    "print(gridSearch.best_estimator_)"
   ]
  },
  {
   "cell_type": "code",
   "execution_count": null,
   "id": "7e087b89-d3dd-4b5d-bbbe-0e884e25a69e",
   "metadata": {},
   "outputs": [],
   "source": [
    "params= {'n_estimators': [50, 100, 200],\n",
    "         'max_depth': [None, 10, 20, 30],\n",
    "         'min_samples_split': [2, 5, 10],\n",
    "         'min_samples_leaf': [1, 2, 4],\n",
    "         'max_features': ['auto', 'sqrt', 'log2']\n",
    "        }\n",
    "rf_model= RandomForestRegressor(random_state=42)\n",
    "gridSearch= GridSearchCV(rf_model, params, cv=10, scoring= 'r2')\n",
    "gridSearch.fit(X, y)\n",
    "print(gridSearch.best_params_)\n",
    "print(gridSearch.best_score_)\n",
    "print(gridSearch.best_estimator_)"
   ]
  },
  {
   "cell_type": "code",
   "execution_count": null,
   "id": "56d6ec78-cb92-407f-8f85-71df9c2f7641",
   "metadata": {},
   "outputs": [],
   "source": [
    "params= {'n_estimators': [50, 100, 200],\n",
    "         'learning_rate': [0.01, 0.1, 0.2],\n",
    "         'max_depth': [3, 5, 7],\n",
    "         'min_samples_split': [2, 5, 10],\n",
    "         'min_samples_leaf': [1, 2, 4],\n",
    "         'subsample': [0.8, 0.9, 1.0]\n",
    "        }\n",
    "gb_model= GradientBoostingRegressor(random_state=42)\n",
    "gridSearch= GridSearchCV(gb_model, params, cv=10, scoring= 'r2')\n",
    "gridSearch.fit(X, y)\n",
    "print(gridSearch.best_params_)\n",
    "print(gridSearch.best_score_)\n",
    "print(gridSearch.best_estimator_)"
   ]
  },
  {
   "cell_type": "code",
   "execution_count": null,
   "id": "7cece0f0-8e37-42bc-92e3-1bd7a82f8718",
   "metadata": {},
   "outputs": [],
   "source": [
    "params= {'n_estimators': [50, 100, 200],\n",
    "         'learning_rate': [0.01, 0.1, 1.0],\n",
    "         'loss': ['linear', 'square', 'exponential']\n",
    "        }\n",
    "ab_model= AdaBoostRegressor(random_state=42)\n",
    "gridSearch= GridSearchCV(ab_model, params, cv=10, scoring= 'r2')\n",
    "gridSearch.fit(X, y)\n",
    "print(gridSearch.best_params_)\n",
    "print(gridSearch.best_score_)\n",
    "print(gridSearch.best_estimator_)\n",
    "print(gridSearch.best_estimator_.feature_importances_)"
   ]
  },
  {
   "cell_type": "code",
   "execution_count": null,
   "id": "77c427b5-082e-4ce9-9c49-7103e29d456e",
   "metadata": {},
   "outputs": [],
   "source": []
  }
 ],
 "metadata": {
  "kernelspec": {
   "display_name": "Python 3 (ipykernel)",
   "language": "python",
   "name": "python3"
  },
  "language_info": {
   "codemirror_mode": {
    "name": "ipython",
    "version": 3
   },
   "file_extension": ".py",
   "mimetype": "text/x-python",
   "name": "python",
   "nbconvert_exporter": "python",
   "pygments_lexer": "ipython3",
   "version": "3.9.17"
  }
 },
 "nbformat": 4,
 "nbformat_minor": 5
}
