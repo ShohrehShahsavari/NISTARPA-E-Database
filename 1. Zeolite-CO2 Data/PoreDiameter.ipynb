{
 "cells": [
  {
   "cell_type": "code",
   "execution_count": 1,
   "id": "9e29a042-2a6f-4a20-a9c6-2789a3970ae2",
   "metadata": {},
   "outputs": [],
   "source": [
    "import numpy as np\n",
    "import pandas as pd\n",
    "import matplotlib.pyplot as plt\n",
    "import seaborn as sns"
   ]
  },
  {
   "cell_type": "code",
   "execution_count": 15,
   "id": "4888bc30-be07-4a17-a396-f393069a562b",
   "metadata": {
    "scrolled": true
   },
   "outputs": [
    {
     "name": "stdout",
     "output_type": "stream",
     "text": [
      "<class 'pandas.core.frame.DataFrame'>\n",
      "RangeIndex: 11304 entries, 0 to 11303\n",
      "Data columns (total 15 columns):\n",
      " #   Column                    Non-Null Count  Dtype  \n",
      "---  ------                    --------------  -----  \n",
      " 0   adsorbent                 11304 non-null  object \n",
      " 1   adsorbates                11304 non-null  object \n",
      " 2   temperature(k)            11304 non-null  int64  \n",
      " 3   pressure                  11304 non-null  float64\n",
      " 4   pressureUnits             11304 non-null  object \n",
      " 5   total_adsorption          11304 non-null  float64\n",
      " 6   adsorptionUnits           11304 non-null  object \n",
      " 7   DOI                       11304 non-null  object \n",
      " 8   pore diameter (A)         11107 non-null  float64\n",
      " 9   micro pore volume (ml/g)  11107 non-null  float64\n",
      " 10  BET surface area (m2/g)   11107 non-null  float64\n",
      " 11  Cation                    11107 non-null  object \n",
      " 12  Si/Al ratio               11049 non-null  float64\n",
      " 13  Company of adsorbent      8562 non-null   object \n",
      " 14  shape                     6034 non-null   object \n",
      "dtypes: float64(6), int64(1), object(8)\n",
      "memory usage: 1.3+ MB\n"
     ]
    }
   ],
   "source": [
    "df = pd.read_excel('E:/Python Projects/shohreh/Shohreh_GitHub_Repository/NISTARPA-E Database/Git Repo/1. Zeolite-CO2 Data/Data.xlsx')\n",
    "df.info()"
   ]
  },
  {
   "cell_type": "code",
   "execution_count": 4,
   "id": "cfa8d46f-f6cb-4394-9ef9-66f2901c62f5",
   "metadata": {},
   "outputs": [
    {
     "data": {
      "text/html": [
       "<div>\n",
       "<style scoped>\n",
       "    .dataframe tbody tr th:only-of-type {\n",
       "        vertical-align: middle;\n",
       "    }\n",
       "\n",
       "    .dataframe tbody tr th {\n",
       "        vertical-align: top;\n",
       "    }\n",
       "\n",
       "    .dataframe thead th {\n",
       "        text-align: right;\n",
       "    }\n",
       "</style>\n",
       "<table border=\"1\" class=\"dataframe\">\n",
       "  <thead>\n",
       "    <tr style=\"text-align: right;\">\n",
       "      <th></th>\n",
       "      <th>Number of unique value</th>\n",
       "    </tr>\n",
       "  </thead>\n",
       "  <tbody>\n",
       "    <tr>\n",
       "      <th>adsorbent</th>\n",
       "      <td>66</td>\n",
       "    </tr>\n",
       "    <tr>\n",
       "      <th>adsorbates</th>\n",
       "      <td>1</td>\n",
       "    </tr>\n",
       "    <tr>\n",
       "      <th>temperature(k)</th>\n",
       "      <td>37</td>\n",
       "    </tr>\n",
       "    <tr>\n",
       "      <th>pressure</th>\n",
       "      <td>9027</td>\n",
       "    </tr>\n",
       "    <tr>\n",
       "      <th>pressureUnits</th>\n",
       "      <td>1</td>\n",
       "    </tr>\n",
       "    <tr>\n",
       "      <th>total_adsorption</th>\n",
       "      <td>9027</td>\n",
       "    </tr>\n",
       "    <tr>\n",
       "      <th>adsorptionUnits</th>\n",
       "      <td>13</td>\n",
       "    </tr>\n",
       "    <tr>\n",
       "      <th>DOI</th>\n",
       "      <td>89</td>\n",
       "    </tr>\n",
       "    <tr>\n",
       "      <th>pore diameter (A)</th>\n",
       "      <td>29</td>\n",
       "    </tr>\n",
       "    <tr>\n",
       "      <th>micro pore volume (ml/g)</th>\n",
       "      <td>29</td>\n",
       "    </tr>\n",
       "    <tr>\n",
       "      <th>BET surface area (m2/g)</th>\n",
       "      <td>49</td>\n",
       "    </tr>\n",
       "    <tr>\n",
       "      <th>Cation</th>\n",
       "      <td>9</td>\n",
       "    </tr>\n",
       "    <tr>\n",
       "      <th>Si/Al ratio</th>\n",
       "      <td>25</td>\n",
       "    </tr>\n",
       "    <tr>\n",
       "      <th>Company of adsorbent</th>\n",
       "      <td>43</td>\n",
       "    </tr>\n",
       "    <tr>\n",
       "      <th>shape</th>\n",
       "      <td>18</td>\n",
       "    </tr>\n",
       "  </tbody>\n",
       "</table>\n",
       "</div>"
      ],
      "text/plain": [
       "                          Number of unique value\n",
       "adsorbent                                     66\n",
       "adsorbates                                     1\n",
       "temperature(k)                                37\n",
       "pressure                                    9027\n",
       "pressureUnits                                  1\n",
       "total_adsorption                            9027\n",
       "adsorptionUnits                               13\n",
       "DOI                                           89\n",
       "pore diameter (A)                             29\n",
       "micro pore volume (ml/g)                      29\n",
       "BET surface area (m2/g)                       49\n",
       "Cation                                         9\n",
       "Si/Al ratio                                   25\n",
       "Company of adsorbent                          43\n",
       "shape                                         18"
      ]
     },
     "execution_count": 4,
     "metadata": {},
     "output_type": "execute_result"
    }
   ],
   "source": [
    "pd.DataFrame(df.nunique(), columns =['Number of unique value'])"
   ]
  },
  {
   "cell_type": "markdown",
   "id": "d61cecd1-5c11-4872-ac25-4f6b7d52bd67",
   "metadata": {},
   "source": [
    " # adsorptionUnits"
   ]
  },
  {
   "cell_type": "code",
   "execution_count": 5,
   "id": "66dc0193-0e2d-419c-a347-b4bb471c59dd",
   "metadata": {
    "scrolled": true
   },
   "outputs": [
    {
     "data": {
      "text/plain": [
       "array(['Zeolite LS-Li-KFI', 'Zeolite 5A', 'Zeolite 13X', 'Zeolite Na-A',\n",
       "       'Cu(I)–NaY zeolite', 'Zeolite 4A', 'ZSM-5(58) Zeolite',\n",
       "       'ZSM-5(295) Zeolite', 'Zeolite IFO', 'Zeolite JSR', 'Zeolite OKO',\n",
       "       'Zeolite SEW', 'Zeolite Köstrolith NaMSXK', 'Zeolite Y',\n",
       "       'STT Zeolite', 'Zeolite 13X / Carbon Honeycomb Monolith',\n",
       "       'BR-Zeolite 4a', 'NaY zeolite', 'Ammonium ZSM-5',\n",
       "       '13X zeolite with Si/Al = 1.4', 'zeolite NaKA (10.2% K+)',\n",
       "       'zeolite NaKA (14.7% K+)', 'zeolite NaKA (12.8% K+)',\n",
       "       'zeolite NaKA (22.5% K+)', 'zeolite NaKA (29.3% K+)',\n",
       "       'Zeolite MFI', 'Zeolite LTA', 'Zeolite X', 'Zeolite Na-Y',\n",
       "       'Zeolite DD3R', 'Zeolite NaX@NaA core-shell',\n",
       "       'Zeolite KX@KA core-shell', 'Zeolite Na-LSX', 'Zeolite DAY',\n",
       "       'Zeolite FAU-I', 'Zeolite 13A', 'ZSM-5 zeolite (Si/Al=60)',\n",
       "       'ZSM-5 zeolite (Si/Al=15)', 'ZSM-5 zeolite (Si/Al=29)',\n",
       "       'Zeolite MOR', 'Zeolite MTT', 'Zeolite GIS', 'Zeolite MWW',\n",
       "       'Zeolite RHO', 'Zeolite MER', 'Zeolite GME', 'Zeolite CHA',\n",
       "       'Zeolite DDR', 'Zeolite ALPO-17', 'Zeolite BEA', 'Zeolite EDI',\n",
       "       'Zeolite ERI', 'Zeolite FAU', 'Zeolite FER', 'Zeolite ISV',\n",
       "       'Zeolite LTL', 'Zeolite 4A S5.0', 'Zeolite 4A S0.3',\n",
       "       'Zeolite LS-K-KFI', 'Zeolite LS-Mg-KFI', 'Zeolite LS-Ca-KFI',\n",
       "       'Zeolite LS-Sr-KFI', 'Zeolite LS-Na-KFI', 'Zeolite Li-ZK-5',\n",
       "       'Zeolite Na-ZK-5', 'Zeolite K-ZK-5'], dtype=object)"
      ]
     },
     "execution_count": 5,
     "metadata": {},
     "output_type": "execute_result"
    }
   ],
   "source": [
    "df['adsorbent'].unique()"
   ]
  },
  {
   "cell_type": "code",
   "execution_count": 6,
   "id": "ea7876f9-2830-4dbe-a084-1574591b9beb",
   "metadata": {},
   "outputs": [
    {
     "data": {
      "text/plain": [
       "array(['mmol/g', 'mol/m3', 'mmol/kg', 'cm3(STP)/g', 'mmol/m2', 'kg/mol',\n",
       "       'mol/l', 'mg/g', 'mol/g', 'molecules/unitcell', 'wt%',\n",
       "       'cm3(STP)/cm3', 'mol/m2'], dtype=object)"
      ]
     },
     "execution_count": 6,
     "metadata": {},
     "output_type": "execute_result"
    }
   ],
   "source": [
    "df['adsorptionUnits'].unique()"
   ]
  },
  {
   "cell_type": "code",
   "execution_count": 7,
   "id": "b3b18d9c-2e69-4be3-b50a-426b81a2e172",
   "metadata": {},
   "outputs": [
    {
     "data": {
      "text/plain": [
       "adsorptionUnits\n",
       "mmol/g                10418\n",
       "molecules/unitcell      269\n",
       "cm3(STP)/g              250\n",
       "mmol/kg                  82\n",
       "mmol/m2                  64\n",
       "mol/l                    51\n",
       "wt%                      39\n",
       "kg/mol                   33\n",
       "mol/m3                   28\n",
       "mg/g                     24\n",
       "cm3(STP)/cm3             20\n",
       "mol/g                    16\n",
       "mol/m2                   10\n",
       "Name: count, dtype: int64"
      ]
     },
     "execution_count": 7,
     "metadata": {},
     "output_type": "execute_result"
    }
   ],
   "source": [
    "df['adsorptionUnits'].value_counts()"
   ]
  },
  {
   "cell_type": "code",
   "execution_count": 16,
   "id": "2a2d5bcd-393a-43aa-81ee-44411f6129c1",
   "metadata": {},
   "outputs": [],
   "source": [
    "#### second try\n",
    "masks= {\n",
    "    'cm3(STP)/g' : df['adsorptionUnits']== 'cm3(STP)/g',\n",
    "    'mmol/kg' : df['adsorptionUnits']== 'mmol/kg',\n",
    "    'mol/g' : df['adsorptionUnits']== 'mol/g'\n",
    "}\n",
    "\n",
    "df.loc[masks['cm3(STP)/g'], 'total_adsorption'] = df.loc[masks['cm3(STP)/g'], 'total_adsorption']\n",
    "df.loc[masks['mmol/kg'], 'total_adsorption'] = (df.loc[masks['mmol/kg'], 'total_adsorption'] / 1000).round(9)\n",
    "df.loc[masks['mol/g'], 'total_adsorption'] = (df.loc[masks['mol/g'], 'total_adsorption'] * 1000).round(3)\n",
    "df.loc[masks['cm3(STP)/g'] | masks['mmol/kg'] | masks['mol/g'], 'adsorptionUnits'] = 'mmol/g'"
   ]
  },
  {
   "cell_type": "code",
   "execution_count": 17,
   "id": "0ba8783b-3b51-4f0c-ae61-e4537944a312",
   "metadata": {},
   "outputs": [],
   "source": [
    "df= df[df['adsorptionUnits'] == 'mmol/g']"
   ]
  },
  {
   "cell_type": "code",
   "execution_count": 18,
   "id": "300ab007-3404-46fd-8f70-a3a1c33a45ce",
   "metadata": {},
   "outputs": [
    {
     "data": {
      "text/plain": [
       "adsorptionUnits\n",
       "mmol/g    10766\n",
       "Name: count, dtype: int64"
      ]
     },
     "execution_count": 18,
     "metadata": {},
     "output_type": "execute_result"
    }
   ],
   "source": [
    "df['adsorptionUnits'].value_counts()"
   ]
  },
  {
   "cell_type": "code",
   "execution_count": 11,
   "id": "6407231b-acca-4571-b130-50b101b4f13b",
   "metadata": {},
   "outputs": [
    {
     "data": {
      "text/plain": [
       "adsorbent                      0\n",
       "adsorbates                     0\n",
       "temperature(k)                 0\n",
       "pressure                       0\n",
       "pressureUnits                  0\n",
       "total_adsorption               0\n",
       "adsorptionUnits                0\n",
       "DOI                            0\n",
       "pore diameter (A)            138\n",
       "micro pore volume (ml/g)     138\n",
       "BET surface area (m2/g)      138\n",
       "Cation                       138\n",
       "Si/Al ratio                  196\n",
       "Company of adsorbent        2407\n",
       "shape                       4968\n",
       "dtype: int64"
      ]
     },
     "execution_count": 11,
     "metadata": {},
     "output_type": "execute_result"
    }
   ],
   "source": [
    "df.isna().sum()"
   ]
  },
  {
   "cell_type": "code",
   "execution_count": 12,
   "id": "87122916-127f-429a-bf29-edc270451007",
   "metadata": {},
   "outputs": [
    {
     "data": {
      "text/plain": [
       "Index(['adsorbent', 'adsorbates', 'temperature(k)', 'pressure',\n",
       "       'pressureUnits', 'total_adsorption', 'adsorptionUnits', 'DOI',\n",
       "       'pore diameter (A)', 'micro pore volume (ml/g)',\n",
       "       'BET surface area (m2/g)', 'Cation', 'Si/Al ratio',\n",
       "       'Company of adsorbent', 'shape'],\n",
       "      dtype='object')"
      ]
     },
     "execution_count": 12,
     "metadata": {},
     "output_type": "execute_result"
    }
   ],
   "source": [
    "df.columns"
   ]
  },
  {
   "cell_type": "markdown",
   "id": "22cedfeb-a132-4251-838d-79b34b0e58e9",
   "metadata": {},
   "source": [
    "# remove useless columns"
   ]
  },
  {
   "cell_type": "code",
   "execution_count": 19,
   "id": "c36de427-76cb-4324-9afe-e617049604d0",
   "metadata": {},
   "outputs": [],
   "source": [
    "df.drop(columns= ['adsorbates', 'pressureUnits', 'adsorptionUnits', 'DOI', 'micro pore volume (ml/g)', 'BET surface area (m2/g)', 'Cation', 'Si/Al ratio','Company of adsorbent', 'shape'], inplace= True, axis=1)"
   ]
  },
  {
   "cell_type": "code",
   "execution_count": 20,
   "id": "4b98b9d5-2423-450b-a777-c90735e36217",
   "metadata": {},
   "outputs": [
    {
     "name": "stdout",
     "output_type": "stream",
     "text": [
      "<class 'pandas.core.frame.DataFrame'>\n",
      "Index: 10766 entries, 0 to 11303\n",
      "Data columns (total 5 columns):\n",
      " #   Column             Non-Null Count  Dtype  \n",
      "---  ------             --------------  -----  \n",
      " 0   adsorbent          10766 non-null  object \n",
      " 1   temperature(k)     10766 non-null  int64  \n",
      " 2   pressure           10766 non-null  float64\n",
      " 3   total_adsorption   10766 non-null  float64\n",
      " 4   pore diameter (A)  10628 non-null  float64\n",
      "dtypes: float64(3), int64(1), object(1)\n",
      "memory usage: 504.7+ KB\n"
     ]
    }
   ],
   "source": [
    "df.info()"
   ]
  },
  {
   "cell_type": "code",
   "execution_count": 59,
   "id": "98f9320f-2df3-4fe1-9588-2b26121696e7",
   "metadata": {},
   "outputs": [
    {
     "data": {
      "text/plain": [
       "Cation\n",
       "Na     6180\n",
       "NH4    2623\n",
       "Ca     1484\n",
       "K       124\n",
       "Li       88\n",
       "TPA      53\n",
       "H        44\n",
       "Sr       17\n",
       "Mg       15\n",
       "Name: count, dtype: int64"
      ]
     },
     "execution_count": 59,
     "metadata": {},
     "output_type": "execute_result"
    }
   ],
   "source": [
    "# df['Cation'].value_counts()"
   ]
  },
  {
   "cell_type": "code",
   "execution_count": 21,
   "id": "f7d614c6-58fd-4204-b1b1-908e4162302f",
   "metadata": {},
   "outputs": [],
   "source": [
    "from sklearn.preprocessing import LabelEncoder, StandardScaler, MinMaxScaler\n",
    "\n",
    "le =LabelEncoder()\n",
    "\n",
    "df['adsorbent'] = le.fit_transform(df['adsorbent'])\n",
    "adsorbent_labels = le.classes_\n",
    "\n",
    "# df['Cation'] = le.fit_transform(df['Cation'])\n",
    "# cation_labels = le.classes_"
   ]
  },
  {
   "cell_type": "code",
   "execution_count": 81,
   "id": "1c598ab3-2afb-4097-97e1-3581854b3c54",
   "metadata": {},
   "outputs": [
    {
     "name": "stdout",
     "output_type": "stream",
     "text": [
      "['13X zeolite with Si/Al = 1.4' 'Ammonium ZSM-5' 'Cu(I)–NaY zeolite'\n",
      " 'NaY zeolite' 'STT Zeolite' 'ZSM-5 zeolite (Si/Al=15)'\n",
      " 'ZSM-5 zeolite (Si/Al=29)' 'ZSM-5 zeolite (Si/Al=60)'\n",
      " 'ZSM-5(295) Zeolite' 'ZSM-5(58) Zeolite' 'Zeolite 13A' 'Zeolite 13X'\n",
      " 'Zeolite 13X / Carbon Honeycomb Monolith' 'Zeolite 4A' 'Zeolite 4A S0.3'\n",
      " 'Zeolite 4A S5.0' 'Zeolite 5A' 'Zeolite ALPO-17' 'Zeolite BEA'\n",
      " 'Zeolite CHA' 'Zeolite DD3R' 'Zeolite DDR' 'Zeolite EDI' 'Zeolite ERI'\n",
      " 'Zeolite FAU' 'Zeolite FAU-I' 'Zeolite FER' 'Zeolite GIS' 'Zeolite GME'\n",
      " 'Zeolite ISV' 'Zeolite K-ZK-5' 'Zeolite KX@KA core-shell'\n",
      " 'Zeolite Köstrolith NaMSXK' 'Zeolite LS-Ca-KFI' 'Zeolite LS-K-KFI'\n",
      " 'Zeolite LS-Li-KFI' 'Zeolite LS-Mg-KFI' 'Zeolite LS-Na-KFI'\n",
      " 'Zeolite LS-Sr-KFI' 'Zeolite LTA' 'Zeolite LTL' 'Zeolite Li-ZK-5'\n",
      " 'Zeolite MER' 'Zeolite MFI' 'Zeolite MOR' 'Zeolite MTT' 'Zeolite MWW'\n",
      " 'Zeolite Na-A' 'Zeolite Na-LSX' 'Zeolite Na-Y' 'Zeolite Na-ZK-5'\n",
      " 'Zeolite NaX@NaA core-shell' 'Zeolite RHO' 'Zeolite X' 'Zeolite Y'\n",
      " 'zeolite NaKA (10.2% K+)' 'zeolite NaKA (12.8% K+)'\n",
      " 'zeolite NaKA (14.7% K+)' 'zeolite NaKA (22.5% K+)'\n",
      " 'zeolite NaKA (29.3% K+)']\n"
     ]
    }
   ],
   "source": [
    "print(adsorbent_labels)\n",
    "# print(cation_labels)"
   ]
  },
  {
   "cell_type": "code",
   "execution_count": 25,
   "id": "aa7edb0a-5f81-430b-9573-a77a0d4f2f06",
   "metadata": {},
   "outputs": [
    {
     "data": {
      "image/png": "[encoded data removed]",
      "text/plain": [
       "<Figure size 2000x1000 with 6 Axes>"
      ]
     },
     "metadata": {},
     "output_type": "display_data"
    }
   ],
   "source": [
    "ncols=2\n",
    "nrows= 3\n",
    "fig, axes= plt.subplots(nrows, ncols, figsize=(20, 10))\n",
    "axes = axes.flatten()\n",
    "for i, col in enumerate(df.columns):\n",
    "    sns.boxplot(data=df, x= col, ax=axes[i])\n",
    "    axes[i].set_title(f'Boxplot of {col}')\n",
    "plt.tight_layout()\n",
    "plt.show()"
   ]
  },
  {
   "cell_type": "code",
   "execution_count": 45,
   "id": "ec951eb3-5ef9-4edd-b6df-d139eacfac6e",
   "metadata": {},
   "outputs": [],
   "source": [
    "df = df[df['temperature(k)'] < 400]\n",
    "df = df[df['Si/Al ratio'] <= 50]"
   ]
  },
  {
   "cell_type": "code",
   "execution_count": 47,
   "id": "a15e7361-ac99-49ee-bd41-187812f35a00",
   "metadata": {},
   "outputs": [],
   "source": [
    "from sklearn.preprocessing import LabelEncoder, StandardScaler, MinMaxScaler\n",
    "\n",
    "scaler = MinMaxScaler()\n",
    "df_std = pd.DataFrame(scaler.fit_transform(df), columns= df.columns)"
   ]
  },
  {
   "cell_type": "code",
   "execution_count": 48,
   "id": "d4705b2c-79f2-4280-afc4-ccc093612223",
   "metadata": {},
   "outputs": [
    {
     "data": {
      "text/html": [
       "<div>\n",
       "<style scoped>\n",
       "    .dataframe tbody tr th:only-of-type {\n",
       "        vertical-align: middle;\n",
       "    }\n",
       "\n",
       "    .dataframe tbody tr th {\n",
       "        vertical-align: top;\n",
       "    }\n",
       "\n",
       "    .dataframe thead th {\n",
       "        text-align: right;\n",
       "    }\n",
       "</style>\n",
       "<table border=\"1\" class=\"dataframe\">\n",
       "  <thead>\n",
       "    <tr style=\"text-align: right;\">\n",
       "      <th></th>\n",
       "      <th>adsorbent</th>\n",
       "      <th>temperature(k)</th>\n",
       "      <th>pressure</th>\n",
       "      <th>total_adsorption</th>\n",
       "      <th>pore diameter (A)</th>\n",
       "      <th>micro pore volume (ml/g)</th>\n",
       "      <th>BET surface area (m2/g)</th>\n",
       "      <th>Cation</th>\n",
       "      <th>Si/Al ratio</th>\n",
       "    </tr>\n",
       "  </thead>\n",
       "  <tbody>\n",
       "    <tr>\n",
       "      <th>0</th>\n",
       "      <td>0.59322</td>\n",
       "      <td>0.441176</td>\n",
       "      <td>0.002389</td>\n",
       "      <td>1.479008e-08</td>\n",
       "      <td>0.088</td>\n",
       "      <td>0.441963</td>\n",
       "      <td>0.474664</td>\n",
       "      <td>0.375</td>\n",
       "      <td>0.023103</td>\n",
       "    </tr>\n",
       "    <tr>\n",
       "      <th>1</th>\n",
       "      <td>0.59322</td>\n",
       "      <td>0.441176</td>\n",
       "      <td>0.005200</td>\n",
       "      <td>3.218812e-08</td>\n",
       "      <td>0.088</td>\n",
       "      <td>0.441963</td>\n",
       "      <td>0.474664</td>\n",
       "      <td>0.375</td>\n",
       "      <td>0.023103</td>\n",
       "    </tr>\n",
       "    <tr>\n",
       "      <th>2</th>\n",
       "      <td>0.59322</td>\n",
       "      <td>0.441176</td>\n",
       "      <td>0.012249</td>\n",
       "      <td>7.582193e-08</td>\n",
       "      <td>0.088</td>\n",
       "      <td>0.441963</td>\n",
       "      <td>0.474664</td>\n",
       "      <td>0.375</td>\n",
       "      <td>0.023103</td>\n",
       "    </tr>\n",
       "    <tr>\n",
       "      <th>3</th>\n",
       "      <td>0.59322</td>\n",
       "      <td>0.441176</td>\n",
       "      <td>0.028478</td>\n",
       "      <td>1.762856e-07</td>\n",
       "      <td>0.088</td>\n",
       "      <td>0.441963</td>\n",
       "      <td>0.474664</td>\n",
       "      <td>0.375</td>\n",
       "      <td>0.023103</td>\n",
       "    </tr>\n",
       "    <tr>\n",
       "      <th>4</th>\n",
       "      <td>0.59322</td>\n",
       "      <td>0.441176</td>\n",
       "      <td>0.068297</td>\n",
       "      <td>4.227708e-07</td>\n",
       "      <td>0.088</td>\n",
       "      <td>0.441963</td>\n",
       "      <td>0.474664</td>\n",
       "      <td>0.375</td>\n",
       "      <td>0.023103</td>\n",
       "    </tr>\n",
       "  </tbody>\n",
       "</table>\n",
       "</div>"
      ],
      "text/plain": [
       "   adsorbent  temperature(k)  pressure  total_adsorption  pore diameter (A)  \\\n",
       "0    0.59322        0.441176  0.002389      1.479008e-08              0.088   \n",
       "1    0.59322        0.441176  0.005200      3.218812e-08              0.088   \n",
       "2    0.59322        0.441176  0.012249      7.582193e-08              0.088   \n",
       "3    0.59322        0.441176  0.028478      1.762856e-07              0.088   \n",
       "4    0.59322        0.441176  0.068297      4.227708e-07              0.088   \n",
       "\n",
       "   micro pore volume (ml/g)  BET surface area (m2/g)  Cation  Si/Al ratio  \n",
       "0                  0.441963                 0.474664   0.375     0.023103  \n",
       "1                  0.441963                 0.474664   0.375     0.023103  \n",
       "2                  0.441963                 0.474664   0.375     0.023103  \n",
       "3                  0.441963                 0.474664   0.375     0.023103  \n",
       "4                  0.441963                 0.474664   0.375     0.023103  "
      ]
     },
     "execution_count": 48,
     "metadata": {},
     "output_type": "execute_result"
    }
   ],
   "source": [
    "df_std.head()"
   ]
  },
  {
   "cell_type": "code",
   "execution_count": 26,
   "id": "2acb7906-8343-4ed9-80bc-5cfeba9a7d53",
   "metadata": {},
   "outputs": [
    {
     "data": {
      "image/png": "[encoded data removed]",
      "text/plain": [
       "<Figure size 600x400 with 2 Axes>"
      ]
     },
     "metadata": {},
     "output_type": "display_data"
    }
   ],
   "source": [
    "# plt.figure(figsize= (6,4))\n",
    "# sns.heatmap(df_std.corr(), fmt='.2f', annot= True)\n",
    "# plt.title('Correlation Heatmap')\n",
    "# plt.show()\n",
    "\n",
    "plt.figure(figsize= (6,4))\n",
    "sns.heatmap(df.corr(), fmt='.2f', annot= True)\n",
    "plt.title('Correlation Heatmap')\n",
    "plt.show()\n"
   ]
  },
  {
   "cell_type": "code",
   "execution_count": 50,
   "id": "27f2f88e-b14c-4c72-883c-b9d9bf2f1975",
   "metadata": {},
   "outputs": [
    {
     "data": {
      "text/html": [
       "<div>\n",
       "<style scoped>\n",
       "    .dataframe tbody tr th:only-of-type {\n",
       "        vertical-align: middle;\n",
       "    }\n",
       "\n",
       "    .dataframe tbody tr th {\n",
       "        vertical-align: top;\n",
       "    }\n",
       "\n",
       "    .dataframe thead th {\n",
       "        text-align: right;\n",
       "    }\n",
       "</style>\n",
       "<table border=\"1\" class=\"dataframe\">\n",
       "  <thead>\n",
       "    <tr style=\"text-align: right;\">\n",
       "      <th></th>\n",
       "      <th>adsorbent</th>\n",
       "      <th>temperature(k)</th>\n",
       "      <th>pressure</th>\n",
       "      <th>total_adsorption</th>\n",
       "      <th>pore diameter (A)</th>\n",
       "      <th>micro pore volume (ml/g)</th>\n",
       "      <th>BET surface area (m2/g)</th>\n",
       "      <th>Cation</th>\n",
       "      <th>Si/Al ratio</th>\n",
       "    </tr>\n",
       "  </thead>\n",
       "  <tbody>\n",
       "    <tr>\n",
       "      <th>0</th>\n",
       "      <td>0.59322</td>\n",
       "      <td>0.441176</td>\n",
       "      <td>0.002389</td>\n",
       "      <td>1.479008e-08</td>\n",
       "      <td>0.088</td>\n",
       "      <td>0.441963</td>\n",
       "      <td>0.474664</td>\n",
       "      <td>0.375</td>\n",
       "      <td>0.023103</td>\n",
       "    </tr>\n",
       "    <tr>\n",
       "      <th>1</th>\n",
       "      <td>0.59322</td>\n",
       "      <td>0.441176</td>\n",
       "      <td>0.005200</td>\n",
       "      <td>3.218812e-08</td>\n",
       "      <td>0.088</td>\n",
       "      <td>0.441963</td>\n",
       "      <td>0.474664</td>\n",
       "      <td>0.375</td>\n",
       "      <td>0.023103</td>\n",
       "    </tr>\n",
       "    <tr>\n",
       "      <th>2</th>\n",
       "      <td>0.59322</td>\n",
       "      <td>0.441176</td>\n",
       "      <td>0.012249</td>\n",
       "      <td>7.582193e-08</td>\n",
       "      <td>0.088</td>\n",
       "      <td>0.441963</td>\n",
       "      <td>0.474664</td>\n",
       "      <td>0.375</td>\n",
       "      <td>0.023103</td>\n",
       "    </tr>\n",
       "    <tr>\n",
       "      <th>3</th>\n",
       "      <td>0.59322</td>\n",
       "      <td>0.441176</td>\n",
       "      <td>0.028478</td>\n",
       "      <td>1.762856e-07</td>\n",
       "      <td>0.088</td>\n",
       "      <td>0.441963</td>\n",
       "      <td>0.474664</td>\n",
       "      <td>0.375</td>\n",
       "      <td>0.023103</td>\n",
       "    </tr>\n",
       "    <tr>\n",
       "      <th>4</th>\n",
       "      <td>0.59322</td>\n",
       "      <td>0.441176</td>\n",
       "      <td>0.068297</td>\n",
       "      <td>4.227708e-07</td>\n",
       "      <td>0.088</td>\n",
       "      <td>0.441963</td>\n",
       "      <td>0.474664</td>\n",
       "      <td>0.375</td>\n",
       "      <td>0.023103</td>\n",
       "    </tr>\n",
       "  </tbody>\n",
       "</table>\n",
       "</div>"
      ],
      "text/plain": [
       "   adsorbent  temperature(k)  pressure  total_adsorption  pore diameter (A)  \\\n",
       "0    0.59322        0.441176  0.002389      1.479008e-08              0.088   \n",
       "1    0.59322        0.441176  0.005200      3.218812e-08              0.088   \n",
       "2    0.59322        0.441176  0.012249      7.582193e-08              0.088   \n",
       "3    0.59322        0.441176  0.028478      1.762856e-07              0.088   \n",
       "4    0.59322        0.441176  0.068297      4.227708e-07              0.088   \n",
       "\n",
       "   micro pore volume (ml/g)  BET surface area (m2/g)  Cation  Si/Al ratio  \n",
       "0                  0.441963                 0.474664   0.375     0.023103  \n",
       "1                  0.441963                 0.474664   0.375     0.023103  \n",
       "2                  0.441963                 0.474664   0.375     0.023103  \n",
       "3                  0.441963                 0.474664   0.375     0.023103  \n",
       "4                  0.441963                 0.474664   0.375     0.023103  "
      ]
     },
     "execution_count": 50,
     "metadata": {},
     "output_type": "execute_result"
    }
   ],
   "source": [
    "df_std.head()"
   ]
  },
  {
   "cell_type": "code",
   "execution_count": 51,
   "id": "bbc8cf77-de44-4c54-8979-076102803e23",
   "metadata": {},
   "outputs": [],
   "source": [
    "from sklearn.model_selection import train_test_split\n",
    "\n",
    "X = df_std.drop(['total_adsorption'], axis=1)\n",
    "y = df_std['total_adsorption']\n",
    "X_train, X_test, y_train, y_test= train_test_split(X, y, train_size= .8, random_state=42)"
   ]
  },
  {
   "cell_type": "code",
   "execution_count": 52,
   "id": "a2409ad7-08a2-43b9-bd46-c7829ad05f76",
   "metadata": {},
   "outputs": [],
   "source": [
    "from sklearn.linear_model import LinearRegression\n",
    "from sklearn.svm import SVR\n",
    "from sklearn.tree import DecisionTreeRegressor\n",
    "from sklearn.ensemble import RandomForestRegressor, GradientBoostingRegressor, AdaBoostRegressor\n",
    "from sklearn.metrics import r2_score, mean_squared_error"
   ]
  },
  {
   "cell_type": "code",
   "execution_count": 53,
   "id": "8057959b-0850-4121-bd3f-7844d78a9976",
   "metadata": {},
   "outputs": [
    {
     "name": "stdout",
     "output_type": "stream",
     "text": [
      "LinearRegression\tr2_score: 8.262431498040623e-05\tmse: 0.0005045275195140414\n",
      "SVR\tr2_score: -17.08485471126828\tmse: 0.009125060840149083\n",
      "DecisionTreeRegressor\tr2_score: -3.0862331339864824e-05\tmse: 0.0005045847813814299\n",
      "RandomForestRegressor\tr2_score: 0.14893178807721152\tmse: 0.00042942281466455364\n",
      "GradientBoostingRegressor\tr2_score: 0.1523886924059683\tmse: 0.0004276785671811151\n",
      "AdaBoostRegressor\tr2_score: -0.0003074191180776342\tmse: 0.0005047243234206128\n"
     ]
    }
   ],
   "source": [
    "estimators = {\n",
    "    'LinearRegression' : LinearRegression(),\n",
    "    'SVR' : SVR(),\n",
    "    'DecisionTreeRegressor' : DecisionTreeRegressor(),\n",
    "    'RandomForestRegressor' : RandomForestRegressor(),\n",
    "    'GradientBoostingRegressor' : GradientBoostingRegressor(),\n",
    "    'AdaBoostRegressor' : AdaBoostRegressor()\n",
    "}\n",
    "for estimator_name, estimator_object in estimators.items():\n",
    "    estimator_object.fit(X_train, y_train)\n",
    "    y_pred = estimator_object.predict(X_test)\n",
    "    print(f\"{estimator_name}\\tr2_score: {r2_score(y_test, y_pred)}\\tmse: {mean_squared_error(y_test, y_pred)}\")"
   ]
  },
  {
   "cell_type": "code",
   "execution_count": 193,
   "id": "aa3c1908-9519-4f61-9e70-c94df4298367",
   "metadata": {},
   "outputs": [
    {
     "name": "stdout",
     "output_type": "stream",
     "text": [
      "SVR\tr2_score: 0.8948000407378234\tmse: 0.0044864462534037605\n"
     ]
    }
   ],
   "source": [
    "svr_model = SVR()\n",
    "svr_model.fit(X_train, y_train)\n",
    "y_pred = svr_model.predict(X_test)\n",
    "print(f\"SVR\\tr2_score: {r2_score(y_test, y_pred)}\\tmse: {mean_squared_error(y_test, y_pred)}\")"
   ]
  },
  {
   "cell_type": "markdown",
   "id": "17400a13-461b-4f20-bc08-cbc4aca978a7",
   "metadata": {},
   "source": [
    "# predict new data with model"
   ]
  },
  {
   "cell_type": "code",
   "execution_count": 218,
   "id": "5dea56ff-680a-4e30-8fc1-d1246c75c82f",
   "metadata": {},
   "outputs": [
    {
     "data": {
      "text/html": [
       "<div>\n",
       "<style scoped>\n",
       "    .dataframe tbody tr th:only-of-type {\n",
       "        vertical-align: middle;\n",
       "    }\n",
       "\n",
       "    .dataframe tbody tr th {\n",
       "        vertical-align: top;\n",
       "    }\n",
       "\n",
       "    .dataframe thead th {\n",
       "        text-align: right;\n",
       "    }\n",
       "</style>\n",
       "<table border=\"1\" class=\"dataframe\">\n",
       "  <thead>\n",
       "    <tr style=\"text-align: right;\">\n",
       "      <th></th>\n",
       "      <th>adsorbent</th>\n",
       "      <th>temperature(k)</th>\n",
       "      <th>pressure</th>\n",
       "      <th>total_adsorption</th>\n",
       "      <th>pore diameter (A)</th>\n",
       "      <th>micro pore volume (ml/g)</th>\n",
       "      <th>BET surface area (m2/g)</th>\n",
       "      <th>Cation</th>\n",
       "      <th>Si/Al ratio</th>\n",
       "    </tr>\n",
       "  </thead>\n",
       "  <tbody>\n",
       "    <tr>\n",
       "      <th>0</th>\n",
       "      <td>0.7</td>\n",
       "      <td>0.655172</td>\n",
       "      <td>0.000388</td>\n",
       "      <td>0.000388</td>\n",
       "      <td>0.354839</td>\n",
       "      <td>0.555556</td>\n",
       "      <td>0.212598</td>\n",
       "      <td>0.0</td>\n",
       "      <td>0.0</td>\n",
       "    </tr>\n",
       "    <tr>\n",
       "      <th>1</th>\n",
       "      <td>0.7</td>\n",
       "      <td>0.655172</td>\n",
       "      <td>0.000284</td>\n",
       "      <td>0.000284</td>\n",
       "      <td>0.354839</td>\n",
       "      <td>0.555556</td>\n",
       "      <td>0.212598</td>\n",
       "      <td>0.0</td>\n",
       "      <td>0.0</td>\n",
       "    </tr>\n",
       "    <tr>\n",
       "      <th>2</th>\n",
       "      <td>0.7</td>\n",
       "      <td>0.655172</td>\n",
       "      <td>0.000378</td>\n",
       "      <td>0.000378</td>\n",
       "      <td>0.354839</td>\n",
       "      <td>0.555556</td>\n",
       "      <td>0.212598</td>\n",
       "      <td>0.0</td>\n",
       "      <td>0.0</td>\n",
       "    </tr>\n",
       "    <tr>\n",
       "      <th>3</th>\n",
       "      <td>0.7</td>\n",
       "      <td>0.655172</td>\n",
       "      <td>0.000424</td>\n",
       "      <td>0.000424</td>\n",
       "      <td>0.354839</td>\n",
       "      <td>0.555556</td>\n",
       "      <td>0.212598</td>\n",
       "      <td>0.0</td>\n",
       "      <td>0.0</td>\n",
       "    </tr>\n",
       "    <tr>\n",
       "      <th>4</th>\n",
       "      <td>0.7</td>\n",
       "      <td>0.655172</td>\n",
       "      <td>0.000469</td>\n",
       "      <td>0.000469</td>\n",
       "      <td>0.354839</td>\n",
       "      <td>0.555556</td>\n",
       "      <td>0.212598</td>\n",
       "      <td>0.0</td>\n",
       "      <td>0.0</td>\n",
       "    </tr>\n",
       "  </tbody>\n",
       "</table>\n",
       "</div>"
      ],
      "text/plain": [
       "   adsorbent  temperature(k)  pressure  total_adsorption  pore diameter (A)  \\\n",
       "0        0.7        0.655172  0.000388          0.000388           0.354839   \n",
       "1        0.7        0.655172  0.000284          0.000284           0.354839   \n",
       "2        0.7        0.655172  0.000378          0.000378           0.354839   \n",
       "3        0.7        0.655172  0.000424          0.000424           0.354839   \n",
       "4        0.7        0.655172  0.000469          0.000469           0.354839   \n",
       "\n",
       "   micro pore volume (ml/g)  BET surface area (m2/g)  Cation  Si/Al ratio  \n",
       "0                  0.555556                 0.212598     0.0          0.0  \n",
       "1                  0.555556                 0.212598     0.0          0.0  \n",
       "2                  0.555556                 0.212598     0.0          0.0  \n",
       "3                  0.555556                 0.212598     0.0          0.0  \n",
       "4                  0.555556                 0.212598     0.0          0.0  "
      ]
     },
     "execution_count": 218,
     "metadata": {},
     "output_type": "execute_result"
    }
   ],
   "source": [
    "# Load new data\n",
    "df_test = pd.read_excel('E:/Python Projects/shohreh/Shohreh_GitHub_Repository/NISTARPA-E Database/Adsorption project/Data - Copy.xlsx')\n",
    "# clean and fit new data with model entry\n",
    "df_test.dropna(subset= ['pore diameter (A)', 'micro pore volume (ml/g)', 'BET surface area (m2/g)', 'Cation', 'Si/Al ratio', 'Company of adsorbent', 'shape'], how='all', inplace= True)\n",
    "df_test.drop(columns= ['adsorbates', 'pressureUnits', 'adsorptionUnits', 'DOI', 'Company of adsorbent', 'shape'], inplace= True, axis=1)\n",
    "# adsorbent and cation label\n",
    "for i in range(len(adsorbent_labels)):\n",
    "    for j in range(len(df_test['adsorbent'].values)):\n",
    "        if adsorbent_labels[i] == df_test['adsorbent'].values[j]:\n",
    "            df_test['adsorbent'].values[j] = i\n",
    "for i in range(len(cation_labels)):\n",
    "    for j in range(len(df_test['Cation'].values)):\n",
    "        if cation_labels[i] == df_test['Cation'].values[j]:\n",
    "            df_test['Cation'].values[j] = i\n",
    "\n",
    "df_test_std = pd.DataFrame(scaler.transform(df_test), columns= df_test.columns)\n",
    "\n",
    "df_test_std.head()"
   ]
  },
  {
   "cell_type": "code",
   "execution_count": 219,
   "id": "ea5629f8-e125-405b-89dd-a0dafc5447a4",
   "metadata": {},
   "outputs": [
    {
     "name": "stdout",
     "output_type": "stream",
     "text": [
      "SVR\tr2_score: -1498.4506923798222\tmse: 0.016931956955164824\n"
     ]
    }
   ],
   "source": [
    "X_new = df_test_std.drop(['total_adsorption'], axis=1)\n",
    "y_new = df_test_std['total_adsorption']\n",
    "y_new_pred= svr_model.predict(X_new)\n",
    "print(f\"SVR\\tr2_score: {r2_score(y_new, y_new_pred)}\\tmse: {mean_squared_error(y_new, y_new_pred)}\")"
   ]
  },
  {
   "cell_type": "code",
   "execution_count": null,
   "id": "baca3531-fa41-4f24-b82d-645d955aac63",
   "metadata": {},
   "outputs": [],
   "source": []
  }
 ],
 "metadata": {
  "kernelspec": {
   "display_name": "Python 3 (ipykernel)",
   "language": "python",
   "name": "python3"
  },
  "language_info": {
   "codemirror_mode": {
    "name": "ipython",
    "version": 3
   },
   "file_extension": ".py",
   "mimetype": "text/x-python",
   "name": "python",
   "nbconvert_exporter": "python",
   "pygments_lexer": "ipython3",
   "version": "3.9.17"
  }
 },
 "nbformat": 4,
 "nbformat_minor": 5
}
