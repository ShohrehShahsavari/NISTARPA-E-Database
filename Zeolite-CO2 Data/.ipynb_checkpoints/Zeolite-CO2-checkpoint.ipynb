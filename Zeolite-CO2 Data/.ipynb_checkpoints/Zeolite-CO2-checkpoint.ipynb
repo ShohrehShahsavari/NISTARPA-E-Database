{
 "cells": [
  {
   "cell_type": "code",
   "execution_count": 1,
   "id": "a1cb04dd-f139-4e5e-b5cf-190abc2b2d42",
   "metadata": {},
   "outputs": [],
   "source": [
    "import pandas as pd\n",
    "import numpy as np\n",
    "import matplotlib.pyplot as plt"
   ]
  },
  {
   "cell_type": "code",
   "execution_count": 2,
   "id": "c3466b0f-ae34-400f-a884-02ae6ffe87eb",
   "metadata": {},
   "outputs": [],
   "source": [
    "df = pd.read_csv(\"E:/Python Projects/shohreh/Shohreh_GitHub_Repository/NISTARPA-E Database/Zeolite-CO2 Data/10.1002adma.200601983.Isotherm10.csv\", delimiter='\\t')"
   ]
  },
  {
   "cell_type": "code",
   "execution_count": 32,
   "id": "729341b0-cbeb-4dcb-b47b-40d145d47984",
   "metadata": {},
   "outputs": [
    {
     "name": "stdout",
     "output_type": "stream",
     "text": [
      "['196', 'bar', 'ml/g', '10.1002/adma.200601983']\n"
     ]
    }
   ],
   "source": [
    "columns=['temperature', 'pressureUnits', 'adsorptionUnits', 'DOI']\n",
    "instant_values=[]\n",
    "for col in columns:\n",
    "    for index, row in df.iterrows():\n",
    "        # Check if the row contains col information\n",
    "        if col in str(row.values):\n",
    "            col = (row.str.split(','))[0][1]\n",
    "            value=col.strip('\"')\n",
    "            instant_values.append(col.strip('\"'))"
   ]
  },
  {
   "cell_type": "code",
   "execution_count": 8,
   "id": "fbc3e399-f6eb-444f-8ff6-f69fc99f2f78",
   "metadata": {},
   "outputs": [
    {
     "name": "stdout",
     "output_type": "stream",
     "text": [
      "Extracted adsorbent: Zeolite 4A\n"
     ]
    }
   ],
   "source": [
    "# Function to search for adsorbent in all rows\n",
    "def extract_adsorbent(dataframe):\n",
    "    for i, row in df.iterrows():\n",
    "        # Check if the row contains adsorbent information\n",
    "        if 'adsorbent' in str(row.values):\n",
    "            adsorbent= (df.iloc[i+2]).str.split(',')[0][1]\n",
    "            return adsorbent.strip('\"') # Remove quotes if present\n",
    "    return None # Return None if adsorbent not found\n",
    "    \n",
    "adsorbent= extract_adsorbent(df)"
   ]
  },
  {
   "cell_type": "code",
   "execution_count": 9,
   "id": "deb71c8f-7e90-429f-983c-0a5c6c6bf773",
   "metadata": {},
   "outputs": [
    {
     "name": "stdout",
     "output_type": "stream",
     "text": [
      "[0.00685903, 0.0428689, 0.214345, 0.38925, 0.507568, 0.627601, 0.756208, 0.898533, 0.99113]\n"
     ]
    }
   ],
   "source": [
    "# Extract pressure from df\n",
    "pressure_values=[]\n",
    "for i, row in df.iterrows():\n",
    "        # Check if the row contains adsorbent information\n",
    "    if 'pressure' in str(row.values):\n",
    "        list=(row.str.split(',')[0][1]).strip('\" ')\n",
    "        list=list.replace('bar', '').replace('pressure', '').strip()\n",
    "        try:\n",
    "            numeric_list= float(list)\n",
    "            pressure_values.append(numeric_list)\n",
    "        except ValueError:\n",
    "            continue"
   ]
  },
  {
   "cell_type": "code",
   "execution_count": 10,
   "id": "6f71cb29-d25d-46f4-a7ed-db7b1a6bb579",
   "metadata": {},
   "outputs": [
    {
     "name": "stdout",
     "output_type": "stream",
     "text": [
      "[114.537, 154.185, 162.445, 162.445, 162.996, 164.097, 163.546, 162.996, 164.097]\n"
     ]
    }
   ],
   "source": [
    "# Extract total_adsorption from df\n",
    "adsorption_values=[]\n",
    "for i, row in df.iterrows():\n",
    "        # Check if the row contains adsorbent information\n",
    "    if 'total_adsorption' in str(row.values):\n",
    "        list=(row.str.split(',')[0][1]).strip('\" ')\n",
    "        list=list.replace('pressure', '').strip()\n",
    "        try:\n",
    "            numeric_list= float(list)\n",
    "            adsorption_values.append(numeric_list)\n",
    "        except ValueError:\n",
    "            continue"
   ]
  },
  {
   "cell_type": "code",
   "execution_count": 25,
   "id": "bc7baea9-5ec1-4d1e-b2e6-0145930de7ab",
   "metadata": {},
   "outputs": [],
   "source": [
    "main_df=pd.DataFrame(np.nan, index=range(len(adsorption_values)) , columns=['adsorbent', 'temperature(k)', 'pressure', 'pressureUnits', 'total_adsorption', 'adsorptionUnits', 'DOI'])"
   ]
  },
  {
   "cell_type": "code",
   "execution_count": 35,
   "id": "e9ae73ef-3065-40ca-bcc4-d67e64d65054",
   "metadata": {},
   "outputs": [
    {
     "data": {
      "text/html": [
       "<div>\n",
       "<style scoped>\n",
       "    .dataframe tbody tr th:only-of-type {\n",
       "        vertical-align: middle;\n",
       "    }\n",
       "\n",
       "    .dataframe tbody tr th {\n",
       "        vertical-align: top;\n",
       "    }\n",
       "\n",
       "    .dataframe thead th {\n",
       "        text-align: right;\n",
       "    }\n",
       "</style>\n",
       "<table border=\"1\" class=\"dataframe\">\n",
       "  <thead>\n",
       "    <tr style=\"text-align: right;\">\n",
       "      <th></th>\n",
       "      <th>adsorbent</th>\n",
       "      <th>temperature(k)</th>\n",
       "      <th>pressure</th>\n",
       "      <th>pressureUnits</th>\n",
       "      <th>total_adsorption</th>\n",
       "      <th>adsorptionUnits</th>\n",
       "      <th>DOI</th>\n",
       "    </tr>\n",
       "  </thead>\n",
       "  <tbody>\n",
       "    <tr>\n",
       "      <th>0</th>\n",
       "      <td>Zeolite 4A</td>\n",
       "      <td>196</td>\n",
       "      <td>0.006859</td>\n",
       "      <td>bar</td>\n",
       "      <td>114.537</td>\n",
       "      <td>ml/g</td>\n",
       "      <td>10.1002/adma.200601983</td>\n",
       "    </tr>\n",
       "    <tr>\n",
       "      <th>1</th>\n",
       "      <td>Zeolite 4A</td>\n",
       "      <td>196</td>\n",
       "      <td>0.042869</td>\n",
       "      <td>bar</td>\n",
       "      <td>154.185</td>\n",
       "      <td>ml/g</td>\n",
       "      <td>10.1002/adma.200601983</td>\n",
       "    </tr>\n",
       "    <tr>\n",
       "      <th>2</th>\n",
       "      <td>Zeolite 4A</td>\n",
       "      <td>196</td>\n",
       "      <td>0.214345</td>\n",
       "      <td>bar</td>\n",
       "      <td>162.445</td>\n",
       "      <td>ml/g</td>\n",
       "      <td>10.1002/adma.200601983</td>\n",
       "    </tr>\n",
       "    <tr>\n",
       "      <th>3</th>\n",
       "      <td>Zeolite 4A</td>\n",
       "      <td>196</td>\n",
       "      <td>0.389250</td>\n",
       "      <td>bar</td>\n",
       "      <td>162.445</td>\n",
       "      <td>ml/g</td>\n",
       "      <td>10.1002/adma.200601983</td>\n",
       "    </tr>\n",
       "    <tr>\n",
       "      <th>4</th>\n",
       "      <td>Zeolite 4A</td>\n",
       "      <td>196</td>\n",
       "      <td>0.507568</td>\n",
       "      <td>bar</td>\n",
       "      <td>162.996</td>\n",
       "      <td>ml/g</td>\n",
       "      <td>10.1002/adma.200601983</td>\n",
       "    </tr>\n",
       "    <tr>\n",
       "      <th>5</th>\n",
       "      <td>Zeolite 4A</td>\n",
       "      <td>196</td>\n",
       "      <td>0.627601</td>\n",
       "      <td>bar</td>\n",
       "      <td>164.097</td>\n",
       "      <td>ml/g</td>\n",
       "      <td>10.1002/adma.200601983</td>\n",
       "    </tr>\n",
       "    <tr>\n",
       "      <th>6</th>\n",
       "      <td>Zeolite 4A</td>\n",
       "      <td>196</td>\n",
       "      <td>0.756208</td>\n",
       "      <td>bar</td>\n",
       "      <td>163.546</td>\n",
       "      <td>ml/g</td>\n",
       "      <td>10.1002/adma.200601983</td>\n",
       "    </tr>\n",
       "    <tr>\n",
       "      <th>7</th>\n",
       "      <td>Zeolite 4A</td>\n",
       "      <td>196</td>\n",
       "      <td>0.898533</td>\n",
       "      <td>bar</td>\n",
       "      <td>162.996</td>\n",
       "      <td>ml/g</td>\n",
       "      <td>10.1002/adma.200601983</td>\n",
       "    </tr>\n",
       "    <tr>\n",
       "      <th>8</th>\n",
       "      <td>Zeolite 4A</td>\n",
       "      <td>196</td>\n",
       "      <td>0.991130</td>\n",
       "      <td>bar</td>\n",
       "      <td>164.097</td>\n",
       "      <td>ml/g</td>\n",
       "      <td>10.1002/adma.200601983</td>\n",
       "    </tr>\n",
       "  </tbody>\n",
       "</table>\n",
       "</div>"
      ],
      "text/plain": [
       "    adsorbent temperature(k)  pressure pressureUnits  total_adsorption  \\\n",
       "0  Zeolite 4A            196  0.006859           bar           114.537   \n",
       "1  Zeolite 4A            196  0.042869           bar           154.185   \n",
       "2  Zeolite 4A            196  0.214345           bar           162.445   \n",
       "3  Zeolite 4A            196  0.389250           bar           162.445   \n",
       "4  Zeolite 4A            196  0.507568           bar           162.996   \n",
       "5  Zeolite 4A            196  0.627601           bar           164.097   \n",
       "6  Zeolite 4A            196  0.756208           bar           163.546   \n",
       "7  Zeolite 4A            196  0.898533           bar           162.996   \n",
       "8  Zeolite 4A            196  0.991130           bar           164.097   \n",
       "\n",
       "  adsorptionUnits                     DOI  \n",
       "0            ml/g  10.1002/adma.200601983  \n",
       "1            ml/g  10.1002/adma.200601983  \n",
       "2            ml/g  10.1002/adma.200601983  \n",
       "3            ml/g  10.1002/adma.200601983  \n",
       "4            ml/g  10.1002/adma.200601983  \n",
       "5            ml/g  10.1002/adma.200601983  \n",
       "6            ml/g  10.1002/adma.200601983  \n",
       "7            ml/g  10.1002/adma.200601983  \n",
       "8            ml/g  10.1002/adma.200601983  "
      ]
     },
     "execution_count": 35,
     "metadata": {},
     "output_type": "execute_result"
    }
   ],
   "source": [
    "main_df['adsorbent'] = adsorbent\n",
    "main_df['temperature(k)'] = instant_values[0]\n",
    "main_df['pressure'] =  pressure_values\n",
    "main_df['pressureUnits'] = instant_values[1]\n",
    "main_df['total_adsorption'] = adsorption_values    \n",
    "main_df['adsorptionUnits'] = instant_values[2]\n",
    "main_df['DOI'] = instant_values[3]\n",
    "main_df"
   ]
  },
  {
   "cell_type": "code",
   "execution_count": null,
   "id": "f826cb30-9f43-491f-a255-cc77b2bcb2fc",
   "metadata": {},
   "outputs": [],
   "source": []
  },
  {
   "cell_type": "code",
   "execution_count": null,
   "id": "0136b0d2-19b3-4dfc-8e40-47ab1e67cf28",
   "metadata": {},
   "outputs": [],
   "source": []
  }
 ],
 "metadata": {
  "kernelspec": {
   "display_name": "Python 3 (ipykernel)",
   "language": "python",
   "name": "python3"
  },
  "language_info": {
   "codemirror_mode": {
    "name": "ipython",
    "version": 3
   },
   "file_extension": ".py",
   "mimetype": "text/x-python",
   "name": "python",
   "nbconvert_exporter": "python",
   "pygments_lexer": "ipython3",
   "version": "3.9.17"
  }
 },
 "nbformat": 4,
 "nbformat_minor": 5
}
