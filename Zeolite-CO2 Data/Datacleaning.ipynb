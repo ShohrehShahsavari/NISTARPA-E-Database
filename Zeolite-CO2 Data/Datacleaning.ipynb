{
 "cells": [
  {
   "cell_type": "code",
   "execution_count": 1,
   "id": "93740dad-2fa8-4b93-be92-67353d915d73",
   "metadata": {},
   "outputs": [],
   "source": [
    "import numpy as np\n",
    "import pandas as pd\n",
    "import matplotlib.pyplot as plt\n",
    "import seaborn as sns"
   ]
  },
  {
   "cell_type": "code",
   "execution_count": 2,
   "id": "7ff775a6-d252-4d4c-9d81-fd0dc33f2432",
   "metadata": {
    "scrolled": true
   },
   "outputs": [
    {
     "name": "stdout",
     "output_type": "stream",
     "text": [
      "<class 'pandas.core.frame.DataFrame'>\n",
      "RangeIndex: 11304 entries, 0 to 11303\n",
      "Data columns (total 15 columns):\n",
      " #   Column                    Non-Null Count  Dtype  \n",
      "---  ------                    --------------  -----  \n",
      " 0   adsorbent                 11304 non-null  object \n",
      " 1   adsorbates                11304 non-null  object \n",
      " 2   temperature(k)            11304 non-null  int64  \n",
      " 3   pressure                  11304 non-null  float64\n",
      " 4   pressureUnits             11304 non-null  object \n",
      " 5   total_adsorption          11304 non-null  float64\n",
      " 6   adsorptionUnits           11304 non-null  object \n",
      " 7   DOI                       11304 non-null  object \n",
      " 8   pore diameter (A)         11107 non-null  float64\n",
      " 9   micro pore volume (ml/g)  11107 non-null  float64\n",
      " 10  BET surface area (m2/g)   11107 non-null  float64\n",
      " 11  Cation                    11107 non-null  object \n",
      " 12  Si/Al ratio               11049 non-null  float64\n",
      " 13  Company of adsorbent      8562 non-null   object \n",
      " 14  shape                     6034 non-null   object \n",
      "dtypes: float64(6), int64(1), object(8)\n",
      "memory usage: 1.3+ MB\n"
     ]
    }
   ],
   "source": [
    "df = pd.read_excel('E:/Python Projects/shohreh/Shohreh_GitHub_Repository/NISTARPA-E Database/Zeolite-CO2 Data/Data.xlsx')\n",
    "df.info()"
   ]
  },
  {
   "cell_type": "code",
   "execution_count": 71,
   "id": "a0cf980a-2e9e-4060-9806-0ab9d26d6979",
   "metadata": {},
   "outputs": [
    {
     "name": "stdout",
     "output_type": "stream",
     "text": [
      "<class 'pandas.core.frame.DataFrame'>\n",
      "Index: 11107 entries, 0 to 11303\n",
      "Data columns (total 15 columns):\n",
      " #   Column                    Non-Null Count  Dtype  \n",
      "---  ------                    --------------  -----  \n",
      " 0   adsorbent                 11107 non-null  object \n",
      " 1   adsorbates                11107 non-null  object \n",
      " 2   temperature(k)            11107 non-null  int64  \n",
      " 3   pressure                  11107 non-null  float64\n",
      " 4   pressureUnits             11107 non-null  object \n",
      " 5   total_adsorption          11107 non-null  float64\n",
      " 6   adsorptionUnits           11107 non-null  object \n",
      " 7   DOI                       11107 non-null  object \n",
      " 8   pore diameter (A)         11107 non-null  float64\n",
      " 9   micro pore volume (ml/g)  11107 non-null  float64\n",
      " 10  BET surface area (m2/g)   11107 non-null  float64\n",
      " 11  Cation                    11107 non-null  object \n",
      " 12  Si/Al ratio               11049 non-null  float64\n",
      " 13  Company of adsorbent      8562 non-null   object \n",
      " 14  shape                     6034 non-null   object \n",
      "dtypes: float64(6), int64(1), object(8)\n",
      "memory usage: 1.4+ MB\n"
     ]
    }
   ],
   "source": [
    "df.dropna(subset= ['pore diameter (A)', 'micro pore volume (ml/g)', 'BET surface area (m2/g)', 'Cation', 'Si/Al ratio', 'Company of adsorbent', 'shape'], how='all', inplace= True)\n",
    "df.info()"
   ]
  },
  {
   "cell_type": "code",
   "execution_count": 3,
   "id": "bced1bc6-630b-4b93-a20a-5dac1a2b19a1",
   "metadata": {},
   "outputs": [
    {
     "data": {
      "text/html": [
       "<div>\n",
       "<style scoped>\n",
       "    .dataframe tbody tr th:only-of-type {\n",
       "        vertical-align: middle;\n",
       "    }\n",
       "\n",
       "    .dataframe tbody tr th {\n",
       "        vertical-align: top;\n",
       "    }\n",
       "\n",
       "    .dataframe thead th {\n",
       "        text-align: right;\n",
       "    }\n",
       "</style>\n",
       "<table border=\"1\" class=\"dataframe\">\n",
       "  <thead>\n",
       "    <tr style=\"text-align: right;\">\n",
       "      <th></th>\n",
       "      <th>Number of unique value</th>\n",
       "    </tr>\n",
       "  </thead>\n",
       "  <tbody>\n",
       "    <tr>\n",
       "      <th>adsorbent</th>\n",
       "      <td>66</td>\n",
       "    </tr>\n",
       "    <tr>\n",
       "      <th>adsorbates</th>\n",
       "      <td>1</td>\n",
       "    </tr>\n",
       "    <tr>\n",
       "      <th>temperature(k)</th>\n",
       "      <td>37</td>\n",
       "    </tr>\n",
       "    <tr>\n",
       "      <th>pressure</th>\n",
       "      <td>9027</td>\n",
       "    </tr>\n",
       "    <tr>\n",
       "      <th>pressureUnits</th>\n",
       "      <td>1</td>\n",
       "    </tr>\n",
       "    <tr>\n",
       "      <th>total_adsorption</th>\n",
       "      <td>9027</td>\n",
       "    </tr>\n",
       "    <tr>\n",
       "      <th>adsorptionUnits</th>\n",
       "      <td>13</td>\n",
       "    </tr>\n",
       "    <tr>\n",
       "      <th>DOI</th>\n",
       "      <td>89</td>\n",
       "    </tr>\n",
       "    <tr>\n",
       "      <th>pore diameter (A)</th>\n",
       "      <td>29</td>\n",
       "    </tr>\n",
       "    <tr>\n",
       "      <th>micro pore volume (ml/g)</th>\n",
       "      <td>29</td>\n",
       "    </tr>\n",
       "    <tr>\n",
       "      <th>BET surface area (m2/g)</th>\n",
       "      <td>49</td>\n",
       "    </tr>\n",
       "    <tr>\n",
       "      <th>Cation</th>\n",
       "      <td>9</td>\n",
       "    </tr>\n",
       "    <tr>\n",
       "      <th>Si/Al ratio</th>\n",
       "      <td>25</td>\n",
       "    </tr>\n",
       "    <tr>\n",
       "      <th>Company of adsorbent</th>\n",
       "      <td>43</td>\n",
       "    </tr>\n",
       "    <tr>\n",
       "      <th>shape</th>\n",
       "      <td>18</td>\n",
       "    </tr>\n",
       "  </tbody>\n",
       "</table>\n",
       "</div>"
      ],
      "text/plain": [
       "                          Number of unique value\n",
       "adsorbent                                     66\n",
       "adsorbates                                     1\n",
       "temperature(k)                                37\n",
       "pressure                                    9027\n",
       "pressureUnits                                  1\n",
       "total_adsorption                            9027\n",
       "adsorptionUnits                               13\n",
       "DOI                                           89\n",
       "pore diameter (A)                             29\n",
       "micro pore volume (ml/g)                      29\n",
       "BET surface area (m2/g)                       49\n",
       "Cation                                         9\n",
       "Si/Al ratio                                   25\n",
       "Company of adsorbent                          43\n",
       "shape                                         18"
      ]
     },
     "execution_count": 3,
     "metadata": {},
     "output_type": "execute_result"
    }
   ],
   "source": [
    "pd.DataFrame(df.nunique(), columns =['Number of unique value'])"
   ]
  },
  {
   "cell_type": "markdown",
   "id": "42499614-c928-4e52-a530-60211a07725f",
   "metadata": {},
   "source": [
    " # adsorptionUnits"
   ]
  },
  {
   "cell_type": "code",
   "execution_count": 5,
   "id": "1a5a7195-6ef6-49f0-9286-a738de55bb38",
   "metadata": {},
   "outputs": [
    {
     "data": {
      "text/plain": [
       "array(['Zeolite LS-Li-KFI', 'Zeolite 5A', 'Zeolite 13X', 'Zeolite Na-A',\n",
       "       'Cu(I)–NaY zeolite', 'Zeolite 4A', 'ZSM-5(58) Zeolite',\n",
       "       'ZSM-5(295) Zeolite', 'Zeolite Köstrolith NaMSXK', 'Zeolite Y',\n",
       "       'STT Zeolite', 'Zeolite 13X / Carbon Honeycomb Monolith',\n",
       "       'NaY zeolite', 'Ammonium ZSM-5', '13X zeolite with Si/Al = 1.4',\n",
       "       'zeolite NaKA (10.2% K+)', 'zeolite NaKA (14.7% K+)',\n",
       "       'zeolite NaKA (12.8% K+)', 'zeolite NaKA (22.5% K+)',\n",
       "       'zeolite NaKA (29.3% K+)', 'Zeolite MFI', 'Zeolite LTA',\n",
       "       'Zeolite X', 'Zeolite Na-Y', 'Zeolite DD3R',\n",
       "       'Zeolite NaX@NaA core-shell', 'Zeolite KX@KA core-shell',\n",
       "       'Zeolite Na-LSX', 'Zeolite DAY', 'Zeolite FAU-I', 'Zeolite 13A',\n",
       "       'ZSM-5 zeolite (Si/Al=60)', 'ZSM-5 zeolite (Si/Al=15)',\n",
       "       'ZSM-5 zeolite (Si/Al=29)', 'Zeolite MOR', 'Zeolite MTT',\n",
       "       'Zeolite GIS', 'Zeolite MWW', 'Zeolite RHO', 'Zeolite MER',\n",
       "       'Zeolite GME', 'Zeolite CHA', 'Zeolite DDR', 'Zeolite ALPO-17',\n",
       "       'Zeolite BEA', 'Zeolite EDI', 'Zeolite ERI', 'Zeolite FAU',\n",
       "       'Zeolite FER', 'Zeolite ISV', 'Zeolite LTL', 'Zeolite 4A S5.0',\n",
       "       'Zeolite 4A S0.3', 'Zeolite LS-K-KFI', 'Zeolite LS-Mg-KFI',\n",
       "       'Zeolite LS-Ca-KFI', 'Zeolite LS-Sr-KFI', 'Zeolite LS-Na-KFI',\n",
       "       'Zeolite Li-ZK-5', 'Zeolite Na-ZK-5', 'Zeolite K-ZK-5'],\n",
       "      dtype=object)"
      ]
     },
     "execution_count": 5,
     "metadata": {},
     "output_type": "execute_result"
    }
   ],
   "source": [
    "df['adsorbent'].unique()"
   ]
  },
  {
   "cell_type": "code",
   "execution_count": 6,
   "id": "509e8e8a-e6e7-4299-b9f6-f4fd9f4ac34e",
   "metadata": {},
   "outputs": [
    {
     "data": {
      "text/plain": [
       "array(['mmol/g', 'mol/m3', 'mmol/kg', 'cm3(STP)/g', 'mmol/m2', 'kg/mol',\n",
       "       'mol/l', 'mg/g', 'mol/g', 'molecules/unitcell', 'wt%',\n",
       "       'cm3(STP)/cm3', 'mol/m2'], dtype=object)"
      ]
     },
     "execution_count": 6,
     "metadata": {},
     "output_type": "execute_result"
    }
   ],
   "source": [
    "df['adsorptionUnits'].unique()"
   ]
  },
  {
   "cell_type": "code",
   "execution_count": 26,
   "id": "8d724528-4ec3-4eec-ba46-5251e5e3f0e2",
   "metadata": {},
   "outputs": [
    {
     "data": {
      "text/plain": [
       "adsorptionUnits\n",
       "mmol/g                10280\n",
       "cm3(STP)/g              250\n",
       "molecules/unitcell      210\n",
       "mmol/kg                  82\n",
       "mmol/m2                  64\n",
       "mol/l                    51\n",
       "wt%                      39\n",
       "kg/mol                   33\n",
       "mol/m3                   28\n",
       "mg/g                     24\n",
       "cm3(STP)/cm3             20\n",
       "mol/g                    16\n",
       "mol/m2                   10\n",
       "Name: count, dtype: int64"
      ]
     },
     "execution_count": 26,
     "metadata": {},
     "output_type": "execute_result"
    }
   ],
   "source": [
    "df['adsorptionUnits'].value_counts()"
   ]
  },
  {
   "cell_type": "code",
   "execution_count": 61,
   "id": "2748b41e-f792-4ef0-9ff7-cdc07da6c990",
   "metadata": {},
   "outputs": [],
   "source": [
    "# #### First try:\n",
    "# for i,row in df.iterrows():\n",
    "#     if row['adsorptionUnits']== 'cm3(STP)/g':\n",
    "#         df.at[i, 'total_adsorption'] = (row['total_adsorption'] / 22.4)\n",
    "#         df.at[i, 'adsorptionUnits']= 'mmol/g'\n",
    "#     elif row['adsorptionUnits']== 'mmol/kg':\n",
    "#         df.at[i, 'total_adsorption'] = (row['total_adsorption'] / 1000)\n",
    "#         df.at[i, 'adsorptionUnits']= 'mmol/g'\n",
    "#     elif row['adsorptionUnits']== 'mmol/m2':\n",
    "#         df.at[i, 'total_adsorption'] = (row['total_adsorption'] * row['BET surface area (m2/g)']).round(3)\n",
    "#         df.at[i, 'adsorptionUnits']= 'mmol/g'\n",
    "#     elif row['adsorptionUnits']== 'kg/mol':\n",
    "#         df.at[i, 'total_adsorption'] = (1000 / row['total_adsorption']).round(3)\n",
    "#         df.at[i, 'adsorptionUnits']= 'mmol/g'\n",
    "#     elif row['adsorptionUnits']== 'mol/g':\n",
    "#         df.at[i, 'total_adsorption'] = (row['total_adsorption'] * 1000).round(3)\n",
    "#         df.at[i, 'adsorptionUnits']= 'mmol/g'\n",
    "#     elif row['adsorptionUnits']== 'mol/m2':\n",
    "#         df.at[i, 'total_adsorption'] = (row['total_adsorption'] * row['BET surface area (m2/g)'] * 1000).round(3)\n",
    "#         df.at[i, 'adsorptionUnits']= 'mmol/g'"
   ]
  },
  {
   "cell_type": "code",
   "execution_count": 73,
   "id": "cc6b5bdb-1613-4c1c-9610-33070ad9542a",
   "metadata": {},
   "outputs": [],
   "source": [
    "#### second try\n",
    "masks= {\n",
    "    'cm3(STP)/g' : df['adsorptionUnits']== 'cm3(STP)/g',\n",
    "    'mmol/kg' : df['adsorptionUnits']== 'mmol/kg',\n",
    "    'mol/g' : df['adsorptionUnits']== 'mol/g'\n",
    "}\n",
    "\n",
    "df.loc[masks['cm3(STP)/g'], 'total_adsorption'] = df.loc[masks['cm3(STP)/g'], 'total_adsorption']\n",
    "df.loc[masks['mmol/kg'], 'total_adsorption'] = (df.loc[masks['mmol/kg'], 'total_adsorption'] / 1000).round(9)\n",
    "df.loc[masks['mol/g'], 'total_adsorption'] = (df.loc[masks['mol/g'], 'total_adsorption'] * 1000).round(3)\n",
    "df.loc[masks['cm3(STP)/g'] | masks['mmol/kg'] | masks['mol/g'], 'adsorptionUnits'] = 'mmol/g'"
   ]
  },
  {
   "cell_type": "code",
   "execution_count": 74,
   "id": "27c4608b-f4b6-46a9-8c44-c45d9c7f7454",
   "metadata": {},
   "outputs": [],
   "source": [
    "df= df[df['adsorptionUnits'] == 'mmol/g']"
   ]
  },
  {
   "cell_type": "code",
   "execution_count": 75,
   "id": "c5ecb9e7-1605-40cd-a4e0-8304ea5f3f88",
   "metadata": {},
   "outputs": [
    {
     "data": {
      "text/plain": [
       "adsorptionUnits\n",
       "mmol/g    10628\n",
       "Name: count, dtype: int64"
      ]
     },
     "execution_count": 75,
     "metadata": {},
     "output_type": "execute_result"
    }
   ],
   "source": [
    "df['adsorptionUnits'].value_counts()"
   ]
  },
  {
   "cell_type": "code",
   "execution_count": 76,
   "id": "87be6d2d-84e5-49b0-9d1b-21b6b4f41091",
   "metadata": {},
   "outputs": [
    {
     "data": {
      "text/plain": [
       "adsorbent                      0\n",
       "adsorbates                     0\n",
       "temperature(k)                 0\n",
       "pressure                       0\n",
       "pressureUnits                  0\n",
       "total_adsorption               0\n",
       "adsorptionUnits                0\n",
       "DOI                            0\n",
       "pore diameter (A)              0\n",
       "micro pore volume (ml/g)       0\n",
       "BET surface area (m2/g)        0\n",
       "Cation                         0\n",
       "Si/Al ratio                   58\n",
       "Company of adsorbent        2269\n",
       "shape                       4830\n",
       "dtype: int64"
      ]
     },
     "execution_count": 76,
     "metadata": {},
     "output_type": "execute_result"
    }
   ],
   "source": [
    "df.isna().sum()"
   ]
  },
  {
   "cell_type": "code",
   "execution_count": 77,
   "id": "a808fc8f-8037-4bee-8fa8-393e8a0d0d3f",
   "metadata": {},
   "outputs": [],
   "source": [
    "### df.groupby(['adsorbent'])['Cation'].agg(pd.Series.mode).to_frame()\n",
    "### df['Cation'] = df.groupby(['adsorbent'])['Cation'].transform(lambda x: x.fillna(x.mode()[0]) if not x.mode().empty else x.fillna('Unknown'))\n",
    "df['Si/Al ratio'] = df.groupby(['adsorbent'])['Si/Al ratio'].transform(lambda x: x.fillna(x.mean()))\n",
    "df['Si/Al ratio'] = df.groupby(['Cation'])['Si/Al ratio'].transform(lambda x: x.fillna(x.mean()))"
   ]
  },
  {
   "cell_type": "code",
   "execution_count": 56,
   "id": "257eb310-279f-46a7-b524-2f356c20ddb2",
   "metadata": {},
   "outputs": [],
   "source": [
    "# df.to_csv('CleanDataForMohammad.csv',index=False)"
   ]
  },
  {
   "cell_type": "markdown",
   "id": "8a1d7c67-29ce-432f-afca-bb92903277e3",
   "metadata": {},
   "source": [
    "# remove useless columns"
   ]
  },
  {
   "cell_type": "code",
   "execution_count": 78,
   "id": "818cbf4e-b46f-4b33-a86e-adc0f10722fd",
   "metadata": {},
   "outputs": [],
   "source": [
    "df.drop(columns= ['adsorbates', 'pressureUnits', 'adsorptionUnits', 'DOI','Company of adsorbent', 'shape'], inplace= True, axis=1)"
   ]
  },
  {
   "cell_type": "code",
   "execution_count": 79,
   "id": "7efc7077-55ac-4199-8029-c5ce9d2cb99c",
   "metadata": {},
   "outputs": [
    {
     "name": "stdout",
     "output_type": "stream",
     "text": [
      "<class 'pandas.core.frame.DataFrame'>\n",
      "Index: 10628 entries, 0 to 11303\n",
      "Data columns (total 4 columns):\n",
      " #   Column            Non-Null Count  Dtype  \n",
      "---  ------            --------------  -----  \n",
      " 0   adsorbent         10628 non-null  object \n",
      " 1   temperature(k)    10628 non-null  int64  \n",
      " 2   pressure          10628 non-null  float64\n",
      " 3   total_adsorption  10628 non-null  float64\n",
      "dtypes: float64(2), int64(1), object(1)\n",
      "memory usage: 415.2+ KB\n"
     ]
    }
   ],
   "source": [
    "df.info()"
   ]
  },
  {
   "cell_type": "code",
   "execution_count": 59,
   "id": "f8be1c31-60e0-495b-b739-d65cc5f0f77e",
   "metadata": {},
   "outputs": [
    {
     "data": {
      "text/plain": [
       "Cation\n",
       "Na     6180\n",
       "NH4    2623\n",
       "Ca     1484\n",
       "K       124\n",
       "Li       88\n",
       "TPA      53\n",
       "H        44\n",
       "Sr       17\n",
       "Mg       15\n",
       "Name: count, dtype: int64"
      ]
     },
     "execution_count": 59,
     "metadata": {},
     "output_type": "execute_result"
    }
   ],
   "source": [
    "df['Cation'].value_counts()"
   ]
  },
  {
   "cell_type": "code",
   "execution_count": 80,
   "id": "08453e3e-1240-4ba3-a967-eae0b24ffa31",
   "metadata": {},
   "outputs": [],
   "source": [
    "from sklearn.preprocessing import LabelEncoder, StandardScaler, MinMaxScaler\n",
    "\n",
    "le =LabelEncoder()\n",
    "\n",
    "df['adsorbent'] = le.fit_transform(df['adsorbent'])\n",
    "adsorbent_labels = le.classes_\n",
    "\n",
    "df['Cation'] = le.fit_transform(df['Cation'])\n",
    "cation_labels = le.classes_"
   ]
  },
  {
   "cell_type": "code",
   "execution_count": 81,
   "id": "8c0511f3-b381-4fcc-859e-c2612c241a1d",
   "metadata": {},
   "outputs": [
    {
     "name": "stdout",
     "output_type": "stream",
     "text": [
      "['13X zeolite with Si/Al = 1.4' 'Ammonium ZSM-5' 'Cu(I)–NaY zeolite'\n",
      " 'NaY zeolite' 'STT Zeolite' 'ZSM-5 zeolite (Si/Al=15)'\n",
      " 'ZSM-5 zeolite (Si/Al=29)' 'ZSM-5 zeolite (Si/Al=60)'\n",
      " 'ZSM-5(295) Zeolite' 'ZSM-5(58) Zeolite' 'Zeolite 13A' 'Zeolite 13X'\n",
      " 'Zeolite 13X / Carbon Honeycomb Monolith' 'Zeolite 4A' 'Zeolite 4A S0.3'\n",
      " 'Zeolite 4A S5.0' 'Zeolite 5A' 'Zeolite ALPO-17' 'Zeolite BEA'\n",
      " 'Zeolite CHA' 'Zeolite DD3R' 'Zeolite DDR' 'Zeolite EDI' 'Zeolite ERI'\n",
      " 'Zeolite FAU' 'Zeolite FAU-I' 'Zeolite FER' 'Zeolite GIS' 'Zeolite GME'\n",
      " 'Zeolite ISV' 'Zeolite K-ZK-5' 'Zeolite KX@KA core-shell'\n",
      " 'Zeolite Köstrolith NaMSXK' 'Zeolite LS-Ca-KFI' 'Zeolite LS-K-KFI'\n",
      " 'Zeolite LS-Li-KFI' 'Zeolite LS-Mg-KFI' 'Zeolite LS-Na-KFI'\n",
      " 'Zeolite LS-Sr-KFI' 'Zeolite LTA' 'Zeolite LTL' 'Zeolite Li-ZK-5'\n",
      " 'Zeolite MER' 'Zeolite MFI' 'Zeolite MOR' 'Zeolite MTT' 'Zeolite MWW'\n",
      " 'Zeolite Na-A' 'Zeolite Na-LSX' 'Zeolite Na-Y' 'Zeolite Na-ZK-5'\n",
      " 'Zeolite NaX@NaA core-shell' 'Zeolite RHO' 'Zeolite X' 'Zeolite Y'\n",
      " 'zeolite NaKA (10.2% K+)' 'zeolite NaKA (12.8% K+)'\n",
      " 'zeolite NaKA (14.7% K+)' 'zeolite NaKA (22.5% K+)'\n",
      " 'zeolite NaKA (29.3% K+)']\n"
     ]
    }
   ],
   "source": [
    "print(adsorbent_labels)\n",
    "print(cation_labels)"
   ]
  },
  {
   "cell_type": "code",
   "execution_count": 82,
   "id": "5ef9715b-86f9-4187-bc7c-106b37b7e78c",
   "metadata": {},
   "outputs": [
    {
     "data": {
      "image/png": "[encoded data removed]",
      "text/plain": [
       "<Figure size 2000x800 with 9 Axes>"
      ]
     },
     "metadata": {},
     "output_type": "display_data"
    }
   ],
   "source": [
    "ncols=3\n",
    "nrows=3\n",
    "fig, axes= plt.subplots(nrows, ncols, figsize=(20, 8))\n",
    "axes = axes.flatten()\n",
    "for i, col in enumerate(df.columns):\n",
    "    sns.boxplot(data=df, x= col, ax=axes[i])\n",
    "    axes[i].set_title(f'Boxplot of {col}')\n",
    "plt.tight_layout()\n",
    "plt.show()"
   ]
  },
  {
   "cell_type": "code",
   "execution_count": 45,
   "id": "7a1e9c3f-7c67-4a54-bebe-e7adb347c825",
   "metadata": {},
   "outputs": [],
   "source": [
    "df = df[df['temperature(k)'] < 400]\n",
    "df = df[df['Si/Al ratio'] <= 50]"
   ]
  },
  {
   "cell_type": "code",
   "execution_count": 47,
   "id": "7d4d27f9-5fa4-41f0-a717-9e1ec8361452",
   "metadata": {},
   "outputs": [],
   "source": [
    "from sklearn.preprocessing import LabelEncoder, StandardScaler, MinMaxScaler\n",
    "\n",
    "scaler = MinMaxScaler()\n",
    "df_std = pd.DataFrame(scaler.fit_transform(df), columns= df.columns)"
   ]
  },
  {
   "cell_type": "code",
   "execution_count": 48,
   "id": "8e2beda8-360b-4c0a-9f25-e8f3a86b9e77",
   "metadata": {},
   "outputs": [
    {
     "data": {
      "text/html": [
       "<div>\n",
       "<style scoped>\n",
       "    .dataframe tbody tr th:only-of-type {\n",
       "        vertical-align: middle;\n",
       "    }\n",
       "\n",
       "    .dataframe tbody tr th {\n",
       "        vertical-align: top;\n",
       "    }\n",
       "\n",
       "    .dataframe thead th {\n",
       "        text-align: right;\n",
       "    }\n",
       "</style>\n",
       "<table border=\"1\" class=\"dataframe\">\n",
       "  <thead>\n",
       "    <tr style=\"text-align: right;\">\n",
       "      <th></th>\n",
       "      <th>adsorbent</th>\n",
       "      <th>temperature(k)</th>\n",
       "      <th>pressure</th>\n",
       "      <th>total_adsorption</th>\n",
       "      <th>pore diameter (A)</th>\n",
       "      <th>micro pore volume (ml/g)</th>\n",
       "      <th>BET surface area (m2/g)</th>\n",
       "      <th>Cation</th>\n",
       "      <th>Si/Al ratio</th>\n",
       "    </tr>\n",
       "  </thead>\n",
       "  <tbody>\n",
       "    <tr>\n",
       "      <th>0</th>\n",
       "      <td>0.59322</td>\n",
       "      <td>0.441176</td>\n",
       "      <td>0.002389</td>\n",
       "      <td>1.479008e-08</td>\n",
       "      <td>0.088</td>\n",
       "      <td>0.441963</td>\n",
       "      <td>0.474664</td>\n",
       "      <td>0.375</td>\n",
       "      <td>0.023103</td>\n",
       "    </tr>\n",
       "    <tr>\n",
       "      <th>1</th>\n",
       "      <td>0.59322</td>\n",
       "      <td>0.441176</td>\n",
       "      <td>0.005200</td>\n",
       "      <td>3.218812e-08</td>\n",
       "      <td>0.088</td>\n",
       "      <td>0.441963</td>\n",
       "      <td>0.474664</td>\n",
       "      <td>0.375</td>\n",
       "      <td>0.023103</td>\n",
       "    </tr>\n",
       "    <tr>\n",
       "      <th>2</th>\n",
       "      <td>0.59322</td>\n",
       "      <td>0.441176</td>\n",
       "      <td>0.012249</td>\n",
       "      <td>7.582193e-08</td>\n",
       "      <td>0.088</td>\n",
       "      <td>0.441963</td>\n",
       "      <td>0.474664</td>\n",
       "      <td>0.375</td>\n",
       "      <td>0.023103</td>\n",
       "    </tr>\n",
       "    <tr>\n",
       "      <th>3</th>\n",
       "      <td>0.59322</td>\n",
       "      <td>0.441176</td>\n",
       "      <td>0.028478</td>\n",
       "      <td>1.762856e-07</td>\n",
       "      <td>0.088</td>\n",
       "      <td>0.441963</td>\n",
       "      <td>0.474664</td>\n",
       "      <td>0.375</td>\n",
       "      <td>0.023103</td>\n",
       "    </tr>\n",
       "    <tr>\n",
       "      <th>4</th>\n",
       "      <td>0.59322</td>\n",
       "      <td>0.441176</td>\n",
       "      <td>0.068297</td>\n",
       "      <td>4.227708e-07</td>\n",
       "      <td>0.088</td>\n",
       "      <td>0.441963</td>\n",
       "      <td>0.474664</td>\n",
       "      <td>0.375</td>\n",
       "      <td>0.023103</td>\n",
       "    </tr>\n",
       "  </tbody>\n",
       "</table>\n",
       "</div>"
      ],
      "text/plain": [
       "   adsorbent  temperature(k)  pressure  total_adsorption  pore diameter (A)  \\\n",
       "0    0.59322        0.441176  0.002389      1.479008e-08              0.088   \n",
       "1    0.59322        0.441176  0.005200      3.218812e-08              0.088   \n",
       "2    0.59322        0.441176  0.012249      7.582193e-08              0.088   \n",
       "3    0.59322        0.441176  0.028478      1.762856e-07              0.088   \n",
       "4    0.59322        0.441176  0.068297      4.227708e-07              0.088   \n",
       "\n",
       "   micro pore volume (ml/g)  BET surface area (m2/g)  Cation  Si/Al ratio  \n",
       "0                  0.441963                 0.474664   0.375     0.023103  \n",
       "1                  0.441963                 0.474664   0.375     0.023103  \n",
       "2                  0.441963                 0.474664   0.375     0.023103  \n",
       "3                  0.441963                 0.474664   0.375     0.023103  \n",
       "4                  0.441963                 0.474664   0.375     0.023103  "
      ]
     },
     "execution_count": 48,
     "metadata": {},
     "output_type": "execute_result"
    }
   ],
   "source": [
    "df_std.head()"
   ]
  },
  {
   "cell_type": "code",
   "execution_count": 83,
   "id": "385444b0-9819-4daa-a67e-a63e606c6af0",
   "metadata": {},
   "outputs": [
    {
     "data": {
      "image/png": "[encoded data removed]",
      "text/plain": [
       "<Figure size 600x400 with 2 Axes>"
      ]
     },
     "metadata": {},
     "output_type": "display_data"
    }
   ],
   "source": [
    "plt.figure(figsize= (6,4))\n",
    "sns.heatmap(df_std.corr(), fmt='.2f', annot= True)\n",
    "plt.title('Correlation Heatmap')\n",
    "plt.show()\n"
   ]
  },
  {
   "cell_type": "code",
   "execution_count": 50,
   "id": "ed818d0c-f7ac-49a2-82f7-ff6b7b80cb4d",
   "metadata": {},
   "outputs": [
    {
     "data": {
      "text/html": [
       "<div>\n",
       "<style scoped>\n",
       "    .dataframe tbody tr th:only-of-type {\n",
       "        vertical-align: middle;\n",
       "    }\n",
       "\n",
       "    .dataframe tbody tr th {\n",
       "        vertical-align: top;\n",
       "    }\n",
       "\n",
       "    .dataframe thead th {\n",
       "        text-align: right;\n",
       "    }\n",
       "</style>\n",
       "<table border=\"1\" class=\"dataframe\">\n",
       "  <thead>\n",
       "    <tr style=\"text-align: right;\">\n",
       "      <th></th>\n",
       "      <th>adsorbent</th>\n",
       "      <th>temperature(k)</th>\n",
       "      <th>pressure</th>\n",
       "      <th>total_adsorption</th>\n",
       "      <th>pore diameter (A)</th>\n",
       "      <th>micro pore volume (ml/g)</th>\n",
       "      <th>BET surface area (m2/g)</th>\n",
       "      <th>Cation</th>\n",
       "      <th>Si/Al ratio</th>\n",
       "    </tr>\n",
       "  </thead>\n",
       "  <tbody>\n",
       "    <tr>\n",
       "      <th>0</th>\n",
       "      <td>0.59322</td>\n",
       "      <td>0.441176</td>\n",
       "      <td>0.002389</td>\n",
       "      <td>1.479008e-08</td>\n",
       "      <td>0.088</td>\n",
       "      <td>0.441963</td>\n",
       "      <td>0.474664</td>\n",
       "      <td>0.375</td>\n",
       "      <td>0.023103</td>\n",
       "    </tr>\n",
       "    <tr>\n",
       "      <th>1</th>\n",
       "      <td>0.59322</td>\n",
       "      <td>0.441176</td>\n",
       "      <td>0.005200</td>\n",
       "      <td>3.218812e-08</td>\n",
       "      <td>0.088</td>\n",
       "      <td>0.441963</td>\n",
       "      <td>0.474664</td>\n",
       "      <td>0.375</td>\n",
       "      <td>0.023103</td>\n",
       "    </tr>\n",
       "    <tr>\n",
       "      <th>2</th>\n",
       "      <td>0.59322</td>\n",
       "      <td>0.441176</td>\n",
       "      <td>0.012249</td>\n",
       "      <td>7.582193e-08</td>\n",
       "      <td>0.088</td>\n",
       "      <td>0.441963</td>\n",
       "      <td>0.474664</td>\n",
       "      <td>0.375</td>\n",
       "      <td>0.023103</td>\n",
       "    </tr>\n",
       "    <tr>\n",
       "      <th>3</th>\n",
       "      <td>0.59322</td>\n",
       "      <td>0.441176</td>\n",
       "      <td>0.028478</td>\n",
       "      <td>1.762856e-07</td>\n",
       "      <td>0.088</td>\n",
       "      <td>0.441963</td>\n",
       "      <td>0.474664</td>\n",
       "      <td>0.375</td>\n",
       "      <td>0.023103</td>\n",
       "    </tr>\n",
       "    <tr>\n",
       "      <th>4</th>\n",
       "      <td>0.59322</td>\n",
       "      <td>0.441176</td>\n",
       "      <td>0.068297</td>\n",
       "      <td>4.227708e-07</td>\n",
       "      <td>0.088</td>\n",
       "      <td>0.441963</td>\n",
       "      <td>0.474664</td>\n",
       "      <td>0.375</td>\n",
       "      <td>0.023103</td>\n",
       "    </tr>\n",
       "  </tbody>\n",
       "</table>\n",
       "</div>"
      ],
      "text/plain": [
       "   adsorbent  temperature(k)  pressure  total_adsorption  pore diameter (A)  \\\n",
       "0    0.59322        0.441176  0.002389      1.479008e-08              0.088   \n",
       "1    0.59322        0.441176  0.005200      3.218812e-08              0.088   \n",
       "2    0.59322        0.441176  0.012249      7.582193e-08              0.088   \n",
       "3    0.59322        0.441176  0.028478      1.762856e-07              0.088   \n",
       "4    0.59322        0.441176  0.068297      4.227708e-07              0.088   \n",
       "\n",
       "   micro pore volume (ml/g)  BET surface area (m2/g)  Cation  Si/Al ratio  \n",
       "0                  0.441963                 0.474664   0.375     0.023103  \n",
       "1                  0.441963                 0.474664   0.375     0.023103  \n",
       "2                  0.441963                 0.474664   0.375     0.023103  \n",
       "3                  0.441963                 0.474664   0.375     0.023103  \n",
       "4                  0.441963                 0.474664   0.375     0.023103  "
      ]
     },
     "execution_count": 50,
     "metadata": {},
     "output_type": "execute_result"
    }
   ],
   "source": [
    "df_std.head()"
   ]
  },
  {
   "cell_type": "code",
   "execution_count": 51,
   "id": "de8e5b35-6489-4b80-af6f-1d101ce5db6a",
   "metadata": {},
   "outputs": [],
   "source": [
    "from sklearn.model_selection import train_test_split\n",
    "\n",
    "X = df_std.drop(['total_adsorption'], axis=1)\n",
    "y = df_std['total_adsorption']\n",
    "X_train, X_test, y_train, y_test= train_test_split(X, y, train_size= .8, random_state=42)"
   ]
  },
  {
   "cell_type": "code",
   "execution_count": 52,
   "id": "1da795b4-ac0b-4f38-9d3f-e9e0f4da6a37",
   "metadata": {},
   "outputs": [],
   "source": [
    "from sklearn.linear_model import LinearRegression\n",
    "from sklearn.svm import SVR\n",
    "from sklearn.tree import DecisionTreeRegressor\n",
    "from sklearn.ensemble import RandomForestRegressor, GradientBoostingRegressor, AdaBoostRegressor\n",
    "from sklearn.metrics import r2_score, mean_squared_error"
   ]
  },
  {
   "cell_type": "code",
   "execution_count": 53,
   "id": "0a58a120-7dd7-4746-8d34-c9741fb5274f",
   "metadata": {},
   "outputs": [
    {
     "name": "stdout",
     "output_type": "stream",
     "text": [
      "LinearRegression\tr2_score: 8.262431498040623e-05\tmse: 0.0005045275195140414\n",
      "SVR\tr2_score: -17.08485471126828\tmse: 0.009125060840149083\n",
      "DecisionTreeRegressor\tr2_score: -3.0862331339864824e-05\tmse: 0.0005045847813814299\n",
      "RandomForestRegressor\tr2_score: 0.14893178807721152\tmse: 0.00042942281466455364\n",
      "GradientBoostingRegressor\tr2_score: 0.1523886924059683\tmse: 0.0004276785671811151\n",
      "AdaBoostRegressor\tr2_score: -0.0003074191180776342\tmse: 0.0005047243234206128\n"
     ]
    }
   ],
   "source": [
    "estimators = {\n",
    "    'LinearRegression' : LinearRegression(),\n",
    "    'SVR' : SVR(),\n",
    "    'DecisionTreeRegressor' : DecisionTreeRegressor(),\n",
    "    'RandomForestRegressor' : RandomForestRegressor(),\n",
    "    'GradientBoostingRegressor' : GradientBoostingRegressor(),\n",
    "    'AdaBoostRegressor' : AdaBoostRegressor()\n",
    "}\n",
    "for estimator_name, estimator_object in estimators.items():\n",
    "    estimator_object.fit(X_train, y_train)\n",
    "    y_pred = estimator_object.predict(X_test)\n",
    "    print(f\"{estimator_name}\\tr2_score: {r2_score(y_test, y_pred)}\\tmse: {mean_squared_error(y_test, y_pred)}\")"
   ]
  },
  {
   "cell_type": "code",
   "execution_count": 193,
   "id": "aab2b95b-0568-41ef-8bab-f4ed4c4e7471",
   "metadata": {},
   "outputs": [
    {
     "name": "stdout",
     "output_type": "stream",
     "text": [
      "SVR\tr2_score: 0.8948000407378234\tmse: 0.0044864462534037605\n"
     ]
    }
   ],
   "source": [
    "svr_model = SVR()\n",
    "svr_model.fit(X_train, y_train)\n",
    "y_pred = svr_model.predict(X_test)\n",
    "print(f\"SVR\\tr2_score: {r2_score(y_test, y_pred)}\\tmse: {mean_squared_error(y_test, y_pred)}\")"
   ]
  },
  {
   "cell_type": "markdown",
   "id": "7d992d97-3fbe-42f3-b93e-701b7f6fe6db",
   "metadata": {},
   "source": [
    "# predict new data with model"
   ]
  },
  {
   "cell_type": "code",
   "execution_count": 218,
   "id": "61170652-d109-4cf4-ac7e-9d009b198905",
   "metadata": {},
   "outputs": [
    {
     "data": {
      "text/html": [
       "<div>\n",
       "<style scoped>\n",
       "    .dataframe tbody tr th:only-of-type {\n",
       "        vertical-align: middle;\n",
       "    }\n",
       "\n",
       "    .dataframe tbody tr th {\n",
       "        vertical-align: top;\n",
       "    }\n",
       "\n",
       "    .dataframe thead th {\n",
       "        text-align: right;\n",
       "    }\n",
       "</style>\n",
       "<table border=\"1\" class=\"dataframe\">\n",
       "  <thead>\n",
       "    <tr style=\"text-align: right;\">\n",
       "      <th></th>\n",
       "      <th>adsorbent</th>\n",
       "      <th>temperature(k)</th>\n",
       "      <th>pressure</th>\n",
       "      <th>total_adsorption</th>\n",
       "      <th>pore diameter (A)</th>\n",
       "      <th>micro pore volume (ml/g)</th>\n",
       "      <th>BET surface area (m2/g)</th>\n",
       "      <th>Cation</th>\n",
       "      <th>Si/Al ratio</th>\n",
       "    </tr>\n",
       "  </thead>\n",
       "  <tbody>\n",
       "    <tr>\n",
       "      <th>0</th>\n",
       "      <td>0.7</td>\n",
       "      <td>0.655172</td>\n",
       "      <td>0.000388</td>\n",
       "      <td>0.000388</td>\n",
       "      <td>0.354839</td>\n",
       "      <td>0.555556</td>\n",
       "      <td>0.212598</td>\n",
       "      <td>0.0</td>\n",
       "      <td>0.0</td>\n",
       "    </tr>\n",
       "    <tr>\n",
       "      <th>1</th>\n",
       "      <td>0.7</td>\n",
       "      <td>0.655172</td>\n",
       "      <td>0.000284</td>\n",
       "      <td>0.000284</td>\n",
       "      <td>0.354839</td>\n",
       "      <td>0.555556</td>\n",
       "      <td>0.212598</td>\n",
       "      <td>0.0</td>\n",
       "      <td>0.0</td>\n",
       "    </tr>\n",
       "    <tr>\n",
       "      <th>2</th>\n",
       "      <td>0.7</td>\n",
       "      <td>0.655172</td>\n",
       "      <td>0.000378</td>\n",
       "      <td>0.000378</td>\n",
       "      <td>0.354839</td>\n",
       "      <td>0.555556</td>\n",
       "      <td>0.212598</td>\n",
       "      <td>0.0</td>\n",
       "      <td>0.0</td>\n",
       "    </tr>\n",
       "    <tr>\n",
       "      <th>3</th>\n",
       "      <td>0.7</td>\n",
       "      <td>0.655172</td>\n",
       "      <td>0.000424</td>\n",
       "      <td>0.000424</td>\n",
       "      <td>0.354839</td>\n",
       "      <td>0.555556</td>\n",
       "      <td>0.212598</td>\n",
       "      <td>0.0</td>\n",
       "      <td>0.0</td>\n",
       "    </tr>\n",
       "    <tr>\n",
       "      <th>4</th>\n",
       "      <td>0.7</td>\n",
       "      <td>0.655172</td>\n",
       "      <td>0.000469</td>\n",
       "      <td>0.000469</td>\n",
       "      <td>0.354839</td>\n",
       "      <td>0.555556</td>\n",
       "      <td>0.212598</td>\n",
       "      <td>0.0</td>\n",
       "      <td>0.0</td>\n",
       "    </tr>\n",
       "  </tbody>\n",
       "</table>\n",
       "</div>"
      ],
      "text/plain": [
       "   adsorbent  temperature(k)  pressure  total_adsorption  pore diameter (A)  \\\n",
       "0        0.7        0.655172  0.000388          0.000388           0.354839   \n",
       "1        0.7        0.655172  0.000284          0.000284           0.354839   \n",
       "2        0.7        0.655172  0.000378          0.000378           0.354839   \n",
       "3        0.7        0.655172  0.000424          0.000424           0.354839   \n",
       "4        0.7        0.655172  0.000469          0.000469           0.354839   \n",
       "\n",
       "   micro pore volume (ml/g)  BET surface area (m2/g)  Cation  Si/Al ratio  \n",
       "0                  0.555556                 0.212598     0.0          0.0  \n",
       "1                  0.555556                 0.212598     0.0          0.0  \n",
       "2                  0.555556                 0.212598     0.0          0.0  \n",
       "3                  0.555556                 0.212598     0.0          0.0  \n",
       "4                  0.555556                 0.212598     0.0          0.0  "
      ]
     },
     "execution_count": 218,
     "metadata": {},
     "output_type": "execute_result"
    }
   ],
   "source": [
    "# Load new data\n",
    "df_test = pd.read_excel('E:/Python Projects/shohreh/Shohreh_GitHub_Repository/NISTARPA-E Database/Adsorption project/Data - Copy.xlsx')\n",
    "# clean and fit new data with model entry\n",
    "df_test.dropna(subset= ['pore diameter (A)', 'micro pore volume (ml/g)', 'BET surface area (m2/g)', 'Cation', 'Si/Al ratio', 'Company of adsorbent', 'shape'], how='all', inplace= True)\n",
    "df_test.drop(columns= ['adsorbates', 'pressureUnits', 'adsorptionUnits', 'DOI', 'Company of adsorbent', 'shape'], inplace= True, axis=1)\n",
    "# adsorbent and cation label\n",
    "for i in range(len(adsorbent_labels)):\n",
    "    for j in range(len(df_test['adsorbent'].values)):\n",
    "        if adsorbent_labels[i] == df_test['adsorbent'].values[j]:\n",
    "            df_test['adsorbent'].values[j] = i\n",
    "for i in range(len(cation_labels)):\n",
    "    for j in range(len(df_test['Cation'].values)):\n",
    "        if cation_labels[i] == df_test['Cation'].values[j]:\n",
    "            df_test['Cation'].values[j] = i\n",
    "\n",
    "df_test_std = pd.DataFrame(scaler.transform(df_test), columns= df_test.columns)\n",
    "\n",
    "df_test_std.head()"
   ]
  },
  {
   "cell_type": "code",
   "execution_count": 219,
   "id": "1d6ae270-e812-49af-be66-51bc1871a228",
   "metadata": {},
   "outputs": [
    {
     "name": "stdout",
     "output_type": "stream",
     "text": [
      "SVR\tr2_score: -1498.4506923798222\tmse: 0.016931956955164824\n"
     ]
    }
   ],
   "source": [
    "X_new = df_test_std.drop(['total_adsorption'], axis=1)\n",
    "y_new = df_test_std['total_adsorption']\n",
    "y_new_pred= svr_model.predict(X_new)\n",
    "print(f\"SVR\\tr2_score: {r2_score(y_new, y_new_pred)}\\tmse: {mean_squared_error(y_new, y_new_pred)}\")"
   ]
  },
  {
   "cell_type": "code",
   "execution_count": null,
   "id": "2800fd05-09a5-4492-85ce-3a20aa2719bc",
   "metadata": {},
   "outputs": [],
   "source": []
  }
 ],
 "metadata": {
  "kernelspec": {
   "display_name": "Python 3 (ipykernel)",
   "language": "python",
   "name": "python3"
  },
  "language_info": {
   "codemirror_mode": {
    "name": "ipython",
    "version": 3
   },
   "file_extension": ".py",
   "mimetype": "text/x-python",
   "name": "python",
   "nbconvert_exporter": "python",
   "pygments_lexer": "ipython3",
   "version": "3.9.17"
  }
 },
 "nbformat": 4,
 "nbformat_minor": 5
}
